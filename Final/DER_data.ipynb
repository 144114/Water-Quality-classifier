{
 "cells": [
  {
   "cell_type": "code",
   "execution_count": 73,
   "metadata": {},
   "outputs": [],
   "source": [
    "# Import Libraries\n",
    "\n",
    "import pandas as pd\n",
    "import numpy as np\n",
    "import matplotlib.pyplot as plt\n",
    "import seaborn as sns"
   ]
  },
  {
   "cell_type": "code",
   "execution_count": 74,
   "metadata": {},
   "outputs": [],
   "source": [
    "derived_data = pd.read_csv(\"Waterbase_v2018_1_WISE4_csv/Waterbase_v2019_1_S_WISE2_SpatialObject_DerivedData.csv\")\n",
    "data         = pd.read_csv(\"Cleaned_EQR.csv\")"
   ]
  },
  {
   "cell_type": "code",
   "execution_count": 75,
   "metadata": {},
   "outputs": [
    {
     "name": "stdout",
     "output_type": "stream",
     "text": [
      "<class 'pandas.core.frame.DataFrame'>\n",
      "RangeIndex: 11953 entries, 0 to 11952\n",
      "Data columns (total 22 columns):\n",
      " #   Column                          Non-Null Count  Dtype  \n",
      "---  ------                          --------------  -----  \n",
      " 0   countryCode                     11953 non-null  object \n",
      " 1   thematicIdIdentifier            11953 non-null  object \n",
      " 2   thematicIdIdentifierScheme      11953 non-null  object \n",
      " 3   monitoringSiteIdentifier        11492 non-null  object \n",
      " 4   monitoringSiteIdentifierScheme  11492 non-null  object \n",
      " 5   monitoringSiteName              11492 non-null  object \n",
      " 6   waterBodyIdentifier             11819 non-null  object \n",
      " 7   waterBodyIdentifierScheme       11819 non-null  object \n",
      " 8   waterBodyName                   11819 non-null  object \n",
      " 9   specialisedZoneType             11819 non-null  object \n",
      " 10  naturalAWBHMWB                  11425 non-null  object \n",
      " 11  reservoir                       11425 non-null  object \n",
      " 12  surfaceWaterBodyTypeCode        11425 non-null  object \n",
      " 13  subUnitIdentifier               11812 non-null  object \n",
      " 14  subUnitIdentifierScheme         11812 non-null  object \n",
      " 15  subUnitName                     11812 non-null  object \n",
      " 16  rbdIdentifier                   11812 non-null  object \n",
      " 17  rbdIdentifierScheme             11812 non-null  object \n",
      " 18  rbdName                         11812 non-null  object \n",
      " 19  confidentialityStatus           11953 non-null  object \n",
      " 20  lat                             10751 non-null  float64\n",
      " 21  lon                             10751 non-null  float64\n",
      "dtypes: float64(2), object(20)\n",
      "memory usage: 2.0+ MB\n"
     ]
    }
   ],
   "source": [
    "derived_data.info()"
   ]
  },
  {
   "cell_type": "code",
   "execution_count": 76,
   "metadata": {},
   "outputs": [
    {
     "data": {
      "text/html": [
       "<div>\n",
       "<style scoped>\n",
       "    .dataframe tbody tr th:only-of-type {\n",
       "        vertical-align: middle;\n",
       "    }\n",
       "\n",
       "    .dataframe tbody tr th {\n",
       "        vertical-align: top;\n",
       "    }\n",
       "\n",
       "    .dataframe thead th {\n",
       "        text-align: right;\n",
       "    }\n",
       "</style>\n",
       "<table border=\"1\" class=\"dataframe\">\n",
       "  <thead>\n",
       "    <tr style=\"text-align: right;\">\n",
       "      <th></th>\n",
       "      <th>countryCode</th>\n",
       "      <th>thematicIdIdentifier</th>\n",
       "      <th>thematicIdIdentifierScheme</th>\n",
       "      <th>monitoringSiteIdentifier</th>\n",
       "      <th>monitoringSiteIdentifierScheme</th>\n",
       "      <th>monitoringSiteName</th>\n",
       "      <th>waterBodyIdentifier</th>\n",
       "      <th>waterBodyIdentifierScheme</th>\n",
       "      <th>waterBodyName</th>\n",
       "      <th>specialisedZoneType</th>\n",
       "      <th>...</th>\n",
       "      <th>surfaceWaterBodyTypeCode</th>\n",
       "      <th>subUnitIdentifier</th>\n",
       "      <th>subUnitIdentifierScheme</th>\n",
       "      <th>subUnitName</th>\n",
       "      <th>rbdIdentifier</th>\n",
       "      <th>rbdIdentifierScheme</th>\n",
       "      <th>rbdName</th>\n",
       "      <th>confidentialityStatus</th>\n",
       "      <th>lat</th>\n",
       "      <th>lon</th>\n",
       "    </tr>\n",
       "  </thead>\n",
       "  <tbody>\n",
       "    <tr>\n",
       "      <th>5771</th>\n",
       "      <td>LT</td>\n",
       "      <td>LTR1577</td>\n",
       "      <td>euMonitoringSiteCode</td>\n",
       "      <td>LTR1577</td>\n",
       "      <td>euMonitoringSiteCode</td>\n",
       "      <td>SESUPE UPSTREAM AUKSTOJI BUKTA</td>\n",
       "      <td>LT150100013</td>\n",
       "      <td>euSurfaceWaterBodyCode</td>\n",
       "      <td>SESUPE</td>\n",
       "      <td>riverWaterBody</td>\n",
       "      <td>...</td>\n",
       "      <td>RWT3</td>\n",
       "      <td>LT111500000</td>\n",
       "      <td>euSubUnitCode</td>\n",
       "      <td>SESUPES PABASEINIS</td>\n",
       "      <td>LT1100</td>\n",
       "      <td>euRBDCode</td>\n",
       "      <td>NEMUNAS</td>\n",
       "      <td>F</td>\n",
       "      <td>54.43278</td>\n",
       "      <td>23.35849</td>\n",
       "    </tr>\n",
       "    <tr>\n",
       "      <th>9630</th>\n",
       "      <td>UK</td>\n",
       "      <td>UK7742</td>\n",
       "      <td>eionetMonitoringSiteCode</td>\n",
       "      <td>UK7742</td>\n",
       "      <td>eionetMonitoringSiteCode</td>\n",
       "      <td>UNKNOWN</td>\n",
       "      <td>NaN</td>\n",
       "      <td>NaN</td>\n",
       "      <td>NaN</td>\n",
       "      <td>NaN</td>\n",
       "      <td>...</td>\n",
       "      <td>NaN</td>\n",
       "      <td>NaN</td>\n",
       "      <td>NaN</td>\n",
       "      <td>NaN</td>\n",
       "      <td>NaN</td>\n",
       "      <td>NaN</td>\n",
       "      <td>NaN</td>\n",
       "      <td>unknown</td>\n",
       "      <td>NaN</td>\n",
       "      <td>NaN</td>\n",
       "    </tr>\n",
       "    <tr>\n",
       "      <th>67</th>\n",
       "      <td>AT</td>\n",
       "      <td>ATFW80207027</td>\n",
       "      <td>euMonitoringSiteCode</td>\n",
       "      <td>ATFW80207027</td>\n",
       "      <td>euMonitoringSiteCode</td>\n",
       "      <td>BREGENZERACH, BREGENZ</td>\n",
       "      <td>ATOK100930000</td>\n",
       "      <td>euSurfaceWaterBodyCode</td>\n",
       "      <td>BREGENZERACH</td>\n",
       "      <td>riverWaterBody</td>\n",
       "      <td>...</td>\n",
       "      <td>MZB_9_1,75</td>\n",
       "      <td>AT2100</td>\n",
       "      <td>euSubUnitCode</td>\n",
       "      <td>RHINE</td>\n",
       "      <td>AT2000</td>\n",
       "      <td>euRBDCode</td>\n",
       "      <td>RHINE</td>\n",
       "      <td>F</td>\n",
       "      <td>47.48693</td>\n",
       "      <td>9.72175</td>\n",
       "    </tr>\n",
       "    <tr>\n",
       "      <th>6990</th>\n",
       "      <td>PL</td>\n",
       "      <td>PL01S0701_1119</td>\n",
       "      <td>euMonitoringSiteCode</td>\n",
       "      <td>PL01S0701_1119</td>\n",
       "      <td>euMonitoringSiteCode</td>\n",
       "      <td>GŁOSKÓWKA - GŁOSKÓW-MOST NA DRODZE PIASECZNO-R...</td>\n",
       "      <td>PLRW200017258529</td>\n",
       "      <td>euSurfaceWaterBodyCode</td>\n",
       "      <td>GŁOSKÓWKA</td>\n",
       "      <td>riverWaterBody</td>\n",
       "      <td>...</td>\n",
       "      <td>17</td>\n",
       "      <td>PL2000</td>\n",
       "      <td>euSubUnitCode</td>\n",
       "      <td>VISTULA RIVER BASIN DISTRICT</td>\n",
       "      <td>PL2000</td>\n",
       "      <td>euRBDCode</td>\n",
       "      <td>VISTULA RIVER BASIN DISTRICT</td>\n",
       "      <td>F</td>\n",
       "      <td>52.03000</td>\n",
       "      <td>20.96028</td>\n",
       "    </tr>\n",
       "    <tr>\n",
       "      <th>3673</th>\n",
       "      <td>IE</td>\n",
       "      <td>IEGBNIIENW_35_160</td>\n",
       "      <td>euMonitoringSiteCode</td>\n",
       "      <td>IEGBNIIENW_35_160</td>\n",
       "      <td>euMonitoringSiteCode</td>\n",
       "      <td>MELVIN</td>\n",
       "      <td>IENW_35_160</td>\n",
       "      <td>euSurfaceWaterBodyCode</td>\n",
       "      <td>MELVIN</td>\n",
       "      <td>lakeWaterBody</td>\n",
       "      <td>...</td>\n",
       "      <td>Lake Type 8</td>\n",
       "      <td>IEGBNIIENW</td>\n",
       "      <td>euSubUnitCode</td>\n",
       "      <td>NORTH WESTERN</td>\n",
       "      <td>IEGBNIIENW</td>\n",
       "      <td>euRBDCode</td>\n",
       "      <td>NORTH WESTERN</td>\n",
       "      <td>N</td>\n",
       "      <td>NaN</td>\n",
       "      <td>NaN</td>\n",
       "    </tr>\n",
       "  </tbody>\n",
       "</table>\n",
       "<p>5 rows × 22 columns</p>\n",
       "</div>"
      ],
      "text/plain": [
       "     countryCode thematicIdIdentifier thematicIdIdentifierScheme  \\\n",
       "5771          LT              LTR1577       euMonitoringSiteCode   \n",
       "9630          UK               UK7742   eionetMonitoringSiteCode   \n",
       "67            AT         ATFW80207027       euMonitoringSiteCode   \n",
       "6990          PL       PL01S0701_1119       euMonitoringSiteCode   \n",
       "3673          IE    IEGBNIIENW_35_160       euMonitoringSiteCode   \n",
       "\n",
       "     monitoringSiteIdentifier monitoringSiteIdentifierScheme  \\\n",
       "5771                  LTR1577           euMonitoringSiteCode   \n",
       "9630                   UK7742       eionetMonitoringSiteCode   \n",
       "67               ATFW80207027           euMonitoringSiteCode   \n",
       "6990           PL01S0701_1119           euMonitoringSiteCode   \n",
       "3673        IEGBNIIENW_35_160           euMonitoringSiteCode   \n",
       "\n",
       "                                     monitoringSiteName waterBodyIdentifier  \\\n",
       "5771                     SESUPE UPSTREAM AUKSTOJI BUKTA         LT150100013   \n",
       "9630                                            UNKNOWN                 NaN   \n",
       "67                                BREGENZERACH, BREGENZ       ATOK100930000   \n",
       "6990  GŁOSKÓWKA - GŁOSKÓW-MOST NA DRODZE PIASECZNO-R...    PLRW200017258529   \n",
       "3673                                             MELVIN         IENW_35_160   \n",
       "\n",
       "     waterBodyIdentifierScheme waterBodyName specialisedZoneType  ...  \\\n",
       "5771    euSurfaceWaterBodyCode        SESUPE      riverWaterBody  ...   \n",
       "9630                       NaN           NaN                 NaN  ...   \n",
       "67      euSurfaceWaterBodyCode  BREGENZERACH      riverWaterBody  ...   \n",
       "6990    euSurfaceWaterBodyCode     GŁOSKÓWKA      riverWaterBody  ...   \n",
       "3673    euSurfaceWaterBodyCode        MELVIN       lakeWaterBody  ...   \n",
       "\n",
       "     surfaceWaterBodyTypeCode subUnitIdentifier subUnitIdentifierScheme  \\\n",
       "5771                     RWT3       LT111500000           euSubUnitCode   \n",
       "9630                      NaN               NaN                     NaN   \n",
       "67                 MZB_9_1,75            AT2100           euSubUnitCode   \n",
       "6990                       17            PL2000           euSubUnitCode   \n",
       "3673              Lake Type 8        IEGBNIIENW           euSubUnitCode   \n",
       "\n",
       "                       subUnitName rbdIdentifier rbdIdentifierScheme  \\\n",
       "5771            SESUPES PABASEINIS        LT1100           euRBDCode   \n",
       "9630                           NaN           NaN                 NaN   \n",
       "67                           RHINE        AT2000           euRBDCode   \n",
       "6990  VISTULA RIVER BASIN DISTRICT        PL2000           euRBDCode   \n",
       "3673                 NORTH WESTERN    IEGBNIIENW           euRBDCode   \n",
       "\n",
       "                           rbdName confidentialityStatus       lat       lon  \n",
       "5771                       NEMUNAS                     F  54.43278  23.35849  \n",
       "9630                           NaN               unknown       NaN       NaN  \n",
       "67                           RHINE                     F  47.48693   9.72175  \n",
       "6990  VISTULA RIVER BASIN DISTRICT                     F  52.03000  20.96028  \n",
       "3673                 NORTH WESTERN                     N       NaN       NaN  \n",
       "\n",
       "[5 rows x 22 columns]"
      ]
     },
     "execution_count": 76,
     "metadata": {},
     "output_type": "execute_result"
    }
   ],
   "source": [
    "derived_data.sample(5)"
   ]
  },
  {
   "cell_type": "code",
   "execution_count": 77,
   "metadata": {},
   "outputs": [],
   "source": [
    "# From The data definition file there are some ineteresting column that we could look into\n",
    "\n",
    "# 1. countryCode                       (Abbreviation of EEA Member or Collaborating Country)\n",
    "# 2. monitoringSiteIdentifier          (Unique international identifier of the monitoring site) (Used to connect 2 datasets together)\n",
    "# 3. specialisedZoneType               (Additional classification value which further specialises the type of management, regulation or restriction zone, represented by this spatial object)\n",
    "# 4. naturalAWBHMWB                    (Specification of whether a water body is identified as natural, artificial (AWB) or heavily modified (HMWB))\n",
    "# 5. reservoir                         (For heavily modified river or lake water bodies, the value indicates whether the water body is a reservoir that has been created by damming a river or an existing lake)\n"
   ]
  },
  {
   "attachments": {},
   "cell_type": "markdown",
   "metadata": {},
   "source": [
    "specialisedZoneType"
   ]
  },
  {
   "cell_type": "code",
   "execution_count": 78,
   "metadata": {},
   "outputs": [
    {
     "data": {
      "text/plain": [
       "riverWaterBody           9090\n",
       "lakeWaterBody            1792\n",
       "coastalWaterBody          501\n",
       "transitionalWaterBody     436\n",
       "Name: specialisedZoneType, dtype: int64"
      ]
     },
     "execution_count": 78,
     "metadata": {},
     "output_type": "execute_result"
    }
   ],
   "source": [
    "# Check For Data that is in Specialised Zone Type\n",
    "derived_data[\"specialisedZoneType\"].value_counts()"
   ]
  },
  {
   "cell_type": "code",
   "execution_count": 79,
   "metadata": {},
   "outputs": [],
   "source": [
    "# The column contain the data about costalWaterBody and transitionalWaterBody which we didn't used in the previous data\n",
    "# Therefore we will drop both costalWaterBody and transitionalWaterBody\n",
    "\n",
    "derived_data = derived_data[(derived_data[\"specialisedZoneType\"] == \"riverWaterBody\") | (derived_data[\"specialisedZoneType\"] == \"lakeWaterBody\")]"
   ]
  },
  {
   "cell_type": "code",
   "execution_count": 80,
   "metadata": {},
   "outputs": [],
   "source": [
    "# Rename riverWaterBody and lakeWaterBody for later\n",
    "derived_data[\"specialisedZoneType\"].replace(\"riverWaterBody\",\"RW\",inplace=True)\n",
    "derived_data[\"specialisedZoneType\"].replace(\"lakeWaterBody\",\"LW\",inplace=True)"
   ]
  },
  {
   "cell_type": "code",
   "execution_count": 81,
   "metadata": {},
   "outputs": [],
   "source": [
    "# Rename the column to CountryCode inorder to make it easier to merge between each dataframe\n",
    "derived_data.rename(columns={\"specialisedZoneType\": \"parameterWaterBodyCategory\"},inplace=True)"
   ]
  },
  {
   "cell_type": "code",
   "execution_count": 82,
   "metadata": {},
   "outputs": [
    {
     "data": {
      "text/plain": [
       "RW    9090\n",
       "LW    1792\n",
       "Name: parameterWaterBodyCategory, dtype: int64"
      ]
     },
     "execution_count": 82,
     "metadata": {},
     "output_type": "execute_result"
    }
   ],
   "source": [
    "derived_data[\"parameterWaterBodyCategory\"].value_counts()"
   ]
  },
  {
   "attachments": {},
   "cell_type": "markdown",
   "metadata": {},
   "source": [
    "countryCode"
   ]
  },
  {
   "cell_type": "code",
   "execution_count": 83,
   "metadata": {},
   "outputs": [],
   "source": [
    "# Rename the column to CountryCode inorder to make it easier to merge between each dataframe\n",
    "derived_data.rename(columns={\"countryCode\": \"CountryCode\"},inplace=True)"
   ]
  },
  {
   "cell_type": "code",
   "execution_count": 84,
   "metadata": {},
   "outputs": [
    {
     "data": {
      "text/plain": [
       "array(['AT', 'BE', 'BG', 'CH', 'CY', 'DE', 'DK', 'EE', 'ES', 'FI', 'FR',\n",
       "       'HR', 'IE', 'IT', 'LT', 'LU', 'LV', 'NL', 'NO', 'PL', 'PT', 'RO',\n",
       "       'SE', 'SI', 'SK', 'UK'], dtype=object)"
      ]
     },
     "execution_count": 84,
     "metadata": {},
     "output_type": "execute_result"
    }
   ],
   "source": [
    "# Check Each Unique Country\n",
    "derived_data[\"CountryCode\"].unique()"
   ]
  },
  {
   "cell_type": "code",
   "execution_count": 85,
   "metadata": {},
   "outputs": [
    {
     "data": {
      "text/plain": [
       "array(['AT', 'BE', 'BG', 'CY', 'DE', 'EE', 'ES', 'FI', 'FR', 'HR', 'IE',\n",
       "       'IT', 'LT', 'LU', 'LV', 'NL', 'NO', 'PL', 'PT', 'RO', 'SE', 'SI',\n",
       "       'SK', 'UK'], dtype=object)"
      ]
     },
     "execution_count": 85,
     "metadata": {},
     "output_type": "execute_result"
    }
   ],
   "source": [
    "# Check Unique Country in Previous Cleaned Dataset\n",
    "data[\"CountryCode\"].unique()"
   ]
  },
  {
   "cell_type": "code",
   "execution_count": 86,
   "metadata": {},
   "outputs": [
    {
     "name": "stdout",
     "output_type": "stream",
     "text": [
      "Number of Unique Country in DER (RW) Dataset : 26\n",
      "Number of Unique Country in DER (LW) Dataset : 20\n",
      "Number of Unique Country in EQR (RW) Dataset : 24\n",
      "Number of Unique Country in EQR (LW) Dataset : 16\n"
     ]
    }
   ],
   "source": [
    "# Check For Each Unique Country in each Dataset\n",
    "len_uni_EQR_RW     = len(data[data[\"parameterWaterBodyCategory\"] == \"RW\"][\"CountryCode\"].unique())\n",
    "len_uni_EQR_LW     = len(data[data[\"parameterWaterBodyCategory\"] == \"LW\"][\"CountryCode\"].unique())\n",
    "len_uni_DER_RW     = len(derived_data[derived_data[\"parameterWaterBodyCategory\"] == \"RW\"][\"CountryCode\"].unique())\n",
    "len_uni_DER_LW     = len(derived_data[derived_data[\"parameterWaterBodyCategory\"] == \"LW\"][\"CountryCode\"].unique())\n",
    "\n",
    "# Current File\n",
    "print(f\"Number of Unique Country in DER (RW) Dataset : {len_uni_DER_RW}\")\n",
    "print(f\"Number of Unique Country in DER (LW) Dataset : {len_uni_DER_LW}\")\n",
    "\n",
    "# Previous File\n",
    "print(f\"Number of Unique Country in EQR (RW) Dataset : {len_uni_EQR_RW}\")\n",
    "print(f\"Number of Unique Country in EQR (LW) Dataset : {len_uni_EQR_LW}\")"
   ]
  },
  {
   "cell_type": "code",
   "execution_count": 87,
   "metadata": {},
   "outputs": [
    {
     "name": "stdout",
     "output_type": "stream",
     "text": [
      "Countries that are in the EQR (RW) Dataset but not in DER (RW) dataset: []\n",
      "Countries that are in the EQR (LW) Dataset but not in DER (LW) dataset: ['CY']\n"
     ]
    }
   ],
   "source": [
    "# First Check the value that are in EQR Dataset But not in DER dataset\n",
    "\n",
    "RW_does_not_contain = []\n",
    "LW_does_not_contain = []\n",
    "\n",
    "for RW in data[data[\"parameterWaterBodyCategory\"] == \"RW\"][\"CountryCode\"].unique():\n",
    "    if RW not in derived_data[derived_data[\"parameterWaterBodyCategory\"] == \"RW\"][\"CountryCode\"].unique():\n",
    "        RW_does_not_contain.append(RW)\n",
    "\n",
    "for LW in data[data[\"parameterWaterBodyCategory\"] == \"LW\"][\"CountryCode\"].unique():\n",
    "    if LW not in derived_data[derived_data[\"parameterWaterBodyCategory\"] == \"LW\"][\"CountryCode\"].unique():\n",
    "        LW_does_not_contain.append(LW)\n",
    "\n",
    "print(f\"Countries that are in the EQR (RW) Dataset but not in DER (RW) dataset: {RW_does_not_contain}\")\n",
    "print(f\"Countries that are in the EQR (LW) Dataset but not in DER (LW) dataset: {LW_does_not_contain}\")"
   ]
  },
  {
   "cell_type": "code",
   "execution_count": 88,
   "metadata": {},
   "outputs": [
    {
     "data": {
      "text/html": [
       "<div>\n",
       "<style scoped>\n",
       "    .dataframe tbody tr th:only-of-type {\n",
       "        vertical-align: middle;\n",
       "    }\n",
       "\n",
       "    .dataframe tbody tr th {\n",
       "        vertical-align: top;\n",
       "    }\n",
       "\n",
       "    .dataframe thead th {\n",
       "        text-align: right;\n",
       "    }\n",
       "</style>\n",
       "<table border=\"1\" class=\"dataframe\">\n",
       "  <thead>\n",
       "    <tr style=\"text-align: right;\">\n",
       "      <th></th>\n",
       "      <th>CountryCode</th>\n",
       "      <th>parameterICStatusOfDeterminandBiologyEQR</th>\n",
       "      <th>parameterBoundaryValueClasses12</th>\n",
       "      <th>parameterBoundaryValueClasses23</th>\n",
       "      <th>parameterBoundaryValueClasses34</th>\n",
       "      <th>parameterBoundaryValueClasses45</th>\n",
       "      <th>monitoringSiteIdentifier</th>\n",
       "      <th>parameterWaterBodyCategory</th>\n",
       "      <th>parameterNCSWaterBodyType</th>\n",
       "      <th>resultEcologicalStatusClassValue</th>\n",
       "      <th>result_convert_EQR</th>\n",
       "      <th>UID</th>\n",
       "    </tr>\n",
       "  </thead>\n",
       "  <tbody>\n",
       "    <tr>\n",
       "      <th>24470</th>\n",
       "      <td>CY</td>\n",
       "      <td>0.555556</td>\n",
       "      <td>0.8</td>\n",
       "      <td>0.6</td>\n",
       "      <td>0.4</td>\n",
       "      <td>0.2</td>\n",
       "      <td>CYD2-2-6-85</td>\n",
       "      <td>LW</td>\n",
       "      <td>425.0</td>\n",
       "      <td>2</td>\n",
       "      <td>1</td>\n",
       "      <td>43423</td>\n",
       "    </tr>\n",
       "    <tr>\n",
       "      <th>24471</th>\n",
       "      <td>CY</td>\n",
       "      <td>0.555556</td>\n",
       "      <td>0.8</td>\n",
       "      <td>0.6</td>\n",
       "      <td>0.4</td>\n",
       "      <td>0.2</td>\n",
       "      <td>CYD2-2-6-85</td>\n",
       "      <td>LW</td>\n",
       "      <td>425.0</td>\n",
       "      <td>2</td>\n",
       "      <td>1</td>\n",
       "      <td>27530</td>\n",
       "    </tr>\n",
       "    <tr>\n",
       "      <th>24472</th>\n",
       "      <td>CY</td>\n",
       "      <td>0.555556</td>\n",
       "      <td>0.8</td>\n",
       "      <td>0.6</td>\n",
       "      <td>0.4</td>\n",
       "      <td>0.2</td>\n",
       "      <td>CYD2-2-6-85</td>\n",
       "      <td>LW</td>\n",
       "      <td>425.0</td>\n",
       "      <td>2</td>\n",
       "      <td>1</td>\n",
       "      <td>27538</td>\n",
       "    </tr>\n",
       "  </tbody>\n",
       "</table>\n",
       "</div>"
      ],
      "text/plain": [
       "      CountryCode  parameterICStatusOfDeterminandBiologyEQR  \\\n",
       "24470          CY                                  0.555556   \n",
       "24471          CY                                  0.555556   \n",
       "24472          CY                                  0.555556   \n",
       "\n",
       "       parameterBoundaryValueClasses12  parameterBoundaryValueClasses23  \\\n",
       "24470                              0.8                              0.6   \n",
       "24471                              0.8                              0.6   \n",
       "24472                              0.8                              0.6   \n",
       "\n",
       "       parameterBoundaryValueClasses34  parameterBoundaryValueClasses45  \\\n",
       "24470                              0.4                              0.2   \n",
       "24471                              0.4                              0.2   \n",
       "24472                              0.4                              0.2   \n",
       "\n",
       "      monitoringSiteIdentifier parameterWaterBodyCategory  \\\n",
       "24470              CYD2-2-6-85                         LW   \n",
       "24471              CYD2-2-6-85                         LW   \n",
       "24472              CYD2-2-6-85                         LW   \n",
       "\n",
       "       parameterNCSWaterBodyType  resultEcologicalStatusClassValue  \\\n",
       "24470                      425.0                                 2   \n",
       "24471                      425.0                                 2   \n",
       "24472                      425.0                                 2   \n",
       "\n",
       "       result_convert_EQR    UID  \n",
       "24470                   1  43423  \n",
       "24471                   1  27530  \n",
       "24472                   1  27538  "
      ]
     },
     "execution_count": 88,
     "metadata": {},
     "output_type": "execute_result"
    }
   ],
   "source": [
    "# Check the shape of CY rows in the EQR dataset\n",
    "data[(data[\"CountryCode\"] == \"CY\") & (data[\"parameterWaterBodyCategory\"] == \"LW\")]"
   ]
  },
  {
   "cell_type": "code",
   "execution_count": 89,
   "metadata": {},
   "outputs": [
    {
     "data": {
      "text/plain": [
       "(29007, 12)"
      ]
     },
     "execution_count": 89,
     "metadata": {},
     "output_type": "execute_result"
    }
   ],
   "source": [
    "# There are only 3 rows therefore we drop that rows\n",
    "data = data[~((data[\"CountryCode\"] == \"CY\") & (data[\"parameterWaterBodyCategory\"] == \"LW\"))]\n",
    "data.shape"
   ]
  },
  {
   "cell_type": "code",
   "execution_count": 90,
   "metadata": {},
   "outputs": [
    {
     "name": "stdout",
     "output_type": "stream",
     "text": [
      "Countries that are in the EQR (RW) Dataset but not in DER (RW) dataset: ['CH', 'DK']\n",
      "Countries that are in the EQR (LW) Dataset but not in DER (LW) dataset: ['DE', 'FR', 'IT', 'NO', 'PT']\n"
     ]
    }
   ],
   "source": [
    "# For this time check the country code that is existed in DER but not in Data\n",
    "\n",
    "RW_does_not_contain = []\n",
    "LW_does_not_contain = []\n",
    "\n",
    "for RW in derived_data[derived_data[\"parameterWaterBodyCategory\"] == \"RW\"][\"CountryCode\"].unique():\n",
    "    if RW not in data[data[\"parameterWaterBodyCategory\"] == \"RW\"][\"CountryCode\"].unique():\n",
    "        RW_does_not_contain.append(RW)\n",
    "\n",
    "for LW in derived_data[derived_data[\"parameterWaterBodyCategory\"] == \"LW\"][\"CountryCode\"].unique():\n",
    "    if LW not in data[data[\"parameterWaterBodyCategory\"] == \"LW\"][\"CountryCode\"].unique():\n",
    "        LW_does_not_contain.append(LW)\n",
    "\n",
    "print(f\"Countries that are in the EQR (RW) Dataset but not in DER (RW) dataset: {RW_does_not_contain}\")\n",
    "print(f\"Countries that are in the EQR (LW) Dataset but not in DER (LW) dataset: {LW_does_not_contain}\")"
   ]
  },
  {
   "cell_type": "code",
   "execution_count": 91,
   "metadata": {},
   "outputs": [],
   "source": [
    "# Categorize data into 2 datasets data_RW and data_LW\n",
    "derived_data_RW = derived_data[derived_data[\"parameterWaterBodyCategory\"] == \"RW\"]\n",
    "derived_data_LW = derived_data[derived_data[\"parameterWaterBodyCategory\"] == \"LW\"]"
   ]
  },
  {
   "cell_type": "code",
   "execution_count": 92,
   "metadata": {},
   "outputs": [],
   "source": [
    "# Drop these values\n",
    "\n",
    "# RW\n",
    "derived_data_RW = derived_data_RW[derived_data_RW[\"CountryCode\"] != \"CH\"]\n",
    "derived_data_RW = derived_data_RW[derived_data_RW[\"CountryCode\"] != \"DK\"]\n",
    "\n",
    "# LW\n",
    "derived_data_LW = derived_data_LW[derived_data_LW[\"CountryCode\"] != \"DK\"]\n",
    "derived_data_LW = derived_data_LW[derived_data_LW[\"CountryCode\"] != \"DE\"]\n",
    "derived_data_LW = derived_data_LW[derived_data_LW[\"CountryCode\"] != \"FR\"]\n",
    "derived_data_LW = derived_data_LW[derived_data_LW[\"CountryCode\"] != \"IT\"]\n",
    "derived_data_LW = derived_data_LW[derived_data_LW[\"CountryCode\"] != \"DK\"]"
   ]
  },
  {
   "cell_type": "code",
   "execution_count": 93,
   "metadata": {},
   "outputs": [
    {
     "data": {
      "text/plain": [
       "(10699, 22)"
      ]
     },
     "execution_count": 93,
     "metadata": {},
     "output_type": "execute_result"
    }
   ],
   "source": [
    "# Concat the dataframe\n",
    "derived_data = pd.concat([derived_data_RW,derived_data_LW])\n",
    "derived_data.shape"
   ]
  },
  {
   "attachments": {},
   "cell_type": "markdown",
   "metadata": {},
   "source": [
    "naturalAWBHMWB"
   ]
  },
  {
   "cell_type": "code",
   "execution_count": 94,
   "metadata": {},
   "outputs": [
    {
     "data": {
      "text/plain": [
       "Natural    7698\n",
       "HMWB       2484\n",
       "AWB         223\n",
       "Name: naturalAWBHMWB, dtype: int64"
      ]
     },
     "execution_count": 94,
     "metadata": {},
     "output_type": "execute_result"
    }
   ],
   "source": [
    "derived_data[\"naturalAWBHMWB\"].value_counts()"
   ]
  },
  {
   "cell_type": "code",
   "execution_count": 95,
   "metadata": {},
   "outputs": [],
   "source": [
    "# Create Dummies for naturalAWBHMWB column\n",
    "derived_data = pd.get_dummies(derived_data,columns=[\"naturalAWBHMWB\"])"
   ]
  },
  {
   "attachments": {},
   "cell_type": "markdown",
   "metadata": {},
   "source": [
    "reservoir"
   ]
  },
  {
   "cell_type": "code",
   "execution_count": 96,
   "metadata": {},
   "outputs": [
    {
     "data": {
      "text/plain": [
       "Missing                                          7211\n",
       "Not a reservoir                                  2523\n",
       "Unpopulated                                       468\n",
       "Reservoir in former river                         184\n",
       "Reservoir in former lake                           15\n",
       "Reservoir in former chain of rivers and lakes       4\n",
       "Name: reservoir, dtype: int64"
      ]
     },
     "execution_count": 96,
     "metadata": {},
     "output_type": "execute_result"
    }
   ],
   "source": [
    "# Do the same for reserviour\n",
    "derived_data[\"reservoir\"].value_counts()"
   ]
  },
  {
   "cell_type": "code",
   "execution_count": 97,
   "metadata": {},
   "outputs": [],
   "source": [
    "# Create a dummmies for this feature too\n",
    "derived_data = pd.get_dummies(derived_data,columns=[\"reservoir\"])"
   ]
  },
  {
   "cell_type": "code",
   "execution_count": 98,
   "metadata": {},
   "outputs": [],
   "source": [
    "# Cut down the unused columns\n",
    "cols = ['CountryCode',\n",
    "        'monitoringSiteIdentifier',\n",
    "        'parameterWaterBodyCategory',\n",
    "        'naturalAWBHMWB_AWB',\n",
    "        'naturalAWBHMWB_HMWB', \n",
    "        'naturalAWBHMWB_Natural', \n",
    "        'reservoir_Missing',\n",
    "        'reservoir_Not a reservoir',\n",
    "        'reservoir_Reservoir in former chain of rivers and lakes',\n",
    "        'reservoir_Reservoir in former lake',\n",
    "        'reservoir_Reservoir in former river', \n",
    "        'reservoir_Unpopulated',\n",
    "        ]"
   ]
  },
  {
   "cell_type": "code",
   "execution_count": 99,
   "metadata": {},
   "outputs": [],
   "source": [
    "derived_data = derived_data[cols]"
   ]
  },
  {
   "cell_type": "code",
   "execution_count": 100,
   "metadata": {},
   "outputs": [
    {
     "data": {
      "text/html": [
       "<div>\n",
       "<style scoped>\n",
       "    .dataframe tbody tr th:only-of-type {\n",
       "        vertical-align: middle;\n",
       "    }\n",
       "\n",
       "    .dataframe tbody tr th {\n",
       "        vertical-align: top;\n",
       "    }\n",
       "\n",
       "    .dataframe thead th {\n",
       "        text-align: right;\n",
       "    }\n",
       "</style>\n",
       "<table border=\"1\" class=\"dataframe\">\n",
       "  <thead>\n",
       "    <tr style=\"text-align: right;\">\n",
       "      <th></th>\n",
       "      <th>CountryCode</th>\n",
       "      <th>monitoringSiteIdentifier</th>\n",
       "      <th>parameterWaterBodyCategory</th>\n",
       "      <th>naturalAWBHMWB_AWB</th>\n",
       "      <th>naturalAWBHMWB_HMWB</th>\n",
       "      <th>naturalAWBHMWB_Natural</th>\n",
       "      <th>reservoir_Missing</th>\n",
       "      <th>reservoir_Not a reservoir</th>\n",
       "      <th>reservoir_Reservoir in former chain of rivers and lakes</th>\n",
       "      <th>reservoir_Reservoir in former lake</th>\n",
       "      <th>reservoir_Reservoir in former river</th>\n",
       "      <th>reservoir_Unpopulated</th>\n",
       "    </tr>\n",
       "  </thead>\n",
       "  <tbody>\n",
       "    <tr>\n",
       "      <th>0</th>\n",
       "      <td>AT</td>\n",
       "      <td>ATFW10000027</td>\n",
       "      <td>RW</td>\n",
       "      <td>0</td>\n",
       "      <td>0</td>\n",
       "      <td>1</td>\n",
       "      <td>0</td>\n",
       "      <td>1</td>\n",
       "      <td>0</td>\n",
       "      <td>0</td>\n",
       "      <td>0</td>\n",
       "      <td>0</td>\n",
       "    </tr>\n",
       "    <tr>\n",
       "      <th>1</th>\n",
       "      <td>AT</td>\n",
       "      <td>ATFW10000077</td>\n",
       "      <td>RW</td>\n",
       "      <td>0</td>\n",
       "      <td>0</td>\n",
       "      <td>1</td>\n",
       "      <td>0</td>\n",
       "      <td>1</td>\n",
       "      <td>0</td>\n",
       "      <td>0</td>\n",
       "      <td>0</td>\n",
       "      <td>0</td>\n",
       "    </tr>\n",
       "    <tr>\n",
       "      <th>2</th>\n",
       "      <td>AT</td>\n",
       "      <td>ATFW10000087</td>\n",
       "      <td>RW</td>\n",
       "      <td>0</td>\n",
       "      <td>0</td>\n",
       "      <td>1</td>\n",
       "      <td>0</td>\n",
       "      <td>1</td>\n",
       "      <td>0</td>\n",
       "      <td>0</td>\n",
       "      <td>0</td>\n",
       "      <td>0</td>\n",
       "    </tr>\n",
       "    <tr>\n",
       "      <th>3</th>\n",
       "      <td>AT</td>\n",
       "      <td>ATFW10000177</td>\n",
       "      <td>RW</td>\n",
       "      <td>0</td>\n",
       "      <td>0</td>\n",
       "      <td>1</td>\n",
       "      <td>0</td>\n",
       "      <td>1</td>\n",
       "      <td>0</td>\n",
       "      <td>0</td>\n",
       "      <td>0</td>\n",
       "      <td>0</td>\n",
       "    </tr>\n",
       "    <tr>\n",
       "      <th>4</th>\n",
       "      <td>AT</td>\n",
       "      <td>ATFW21500097</td>\n",
       "      <td>RW</td>\n",
       "      <td>0</td>\n",
       "      <td>1</td>\n",
       "      <td>0</td>\n",
       "      <td>0</td>\n",
       "      <td>1</td>\n",
       "      <td>0</td>\n",
       "      <td>0</td>\n",
       "      <td>0</td>\n",
       "      <td>0</td>\n",
       "    </tr>\n",
       "    <tr>\n",
       "      <th>...</th>\n",
       "      <td>...</td>\n",
       "      <td>...</td>\n",
       "      <td>...</td>\n",
       "      <td>...</td>\n",
       "      <td>...</td>\n",
       "      <td>...</td>\n",
       "      <td>...</td>\n",
       "      <td>...</td>\n",
       "      <td>...</td>\n",
       "      <td>...</td>\n",
       "      <td>...</td>\n",
       "      <td>...</td>\n",
       "    </tr>\n",
       "    <tr>\n",
       "      <th>11933</th>\n",
       "      <td>UK</td>\n",
       "      <td>UKSC320717</td>\n",
       "      <td>LW</td>\n",
       "      <td>0</td>\n",
       "      <td>0</td>\n",
       "      <td>1</td>\n",
       "      <td>1</td>\n",
       "      <td>0</td>\n",
       "      <td>0</td>\n",
       "      <td>0</td>\n",
       "      <td>0</td>\n",
       "      <td>0</td>\n",
       "    </tr>\n",
       "    <tr>\n",
       "      <th>11944</th>\n",
       "      <td>UK</td>\n",
       "      <td>UKSC350177</td>\n",
       "      <td>LW</td>\n",
       "      <td>0</td>\n",
       "      <td>1</td>\n",
       "      <td>0</td>\n",
       "      <td>0</td>\n",
       "      <td>1</td>\n",
       "      <td>0</td>\n",
       "      <td>0</td>\n",
       "      <td>0</td>\n",
       "      <td>0</td>\n",
       "    </tr>\n",
       "    <tr>\n",
       "      <th>11945</th>\n",
       "      <td>UK</td>\n",
       "      <td>UKSC350187</td>\n",
       "      <td>LW</td>\n",
       "      <td>0</td>\n",
       "      <td>0</td>\n",
       "      <td>1</td>\n",
       "      <td>1</td>\n",
       "      <td>0</td>\n",
       "      <td>0</td>\n",
       "      <td>0</td>\n",
       "      <td>0</td>\n",
       "      <td>0</td>\n",
       "    </tr>\n",
       "    <tr>\n",
       "      <th>11948</th>\n",
       "      <td>UK</td>\n",
       "      <td>UKSC375884</td>\n",
       "      <td>LW</td>\n",
       "      <td>0</td>\n",
       "      <td>0</td>\n",
       "      <td>1</td>\n",
       "      <td>1</td>\n",
       "      <td>0</td>\n",
       "      <td>0</td>\n",
       "      <td>0</td>\n",
       "      <td>0</td>\n",
       "      <td>0</td>\n",
       "    </tr>\n",
       "    <tr>\n",
       "      <th>11951</th>\n",
       "      <td>UK</td>\n",
       "      <td>UKSC459082</td>\n",
       "      <td>LW</td>\n",
       "      <td>0</td>\n",
       "      <td>0</td>\n",
       "      <td>1</td>\n",
       "      <td>1</td>\n",
       "      <td>0</td>\n",
       "      <td>0</td>\n",
       "      <td>0</td>\n",
       "      <td>0</td>\n",
       "      <td>0</td>\n",
       "    </tr>\n",
       "  </tbody>\n",
       "</table>\n",
       "<p>10699 rows × 12 columns</p>\n",
       "</div>"
      ],
      "text/plain": [
       "      CountryCode monitoringSiteIdentifier parameterWaterBodyCategory  \\\n",
       "0              AT             ATFW10000027                         RW   \n",
       "1              AT             ATFW10000077                         RW   \n",
       "2              AT             ATFW10000087                         RW   \n",
       "3              AT             ATFW10000177                         RW   \n",
       "4              AT             ATFW21500097                         RW   \n",
       "...           ...                      ...                        ...   \n",
       "11933          UK               UKSC320717                         LW   \n",
       "11944          UK               UKSC350177                         LW   \n",
       "11945          UK               UKSC350187                         LW   \n",
       "11948          UK               UKSC375884                         LW   \n",
       "11951          UK               UKSC459082                         LW   \n",
       "\n",
       "       naturalAWBHMWB_AWB  naturalAWBHMWB_HMWB  naturalAWBHMWB_Natural  \\\n",
       "0                       0                    0                       1   \n",
       "1                       0                    0                       1   \n",
       "2                       0                    0                       1   \n",
       "3                       0                    0                       1   \n",
       "4                       0                    1                       0   \n",
       "...                   ...                  ...                     ...   \n",
       "11933                   0                    0                       1   \n",
       "11944                   0                    1                       0   \n",
       "11945                   0                    0                       1   \n",
       "11948                   0                    0                       1   \n",
       "11951                   0                    0                       1   \n",
       "\n",
       "       reservoir_Missing  reservoir_Not a reservoir  \\\n",
       "0                      0                          1   \n",
       "1                      0                          1   \n",
       "2                      0                          1   \n",
       "3                      0                          1   \n",
       "4                      0                          1   \n",
       "...                  ...                        ...   \n",
       "11933                  1                          0   \n",
       "11944                  0                          1   \n",
       "11945                  1                          0   \n",
       "11948                  1                          0   \n",
       "11951                  1                          0   \n",
       "\n",
       "       reservoir_Reservoir in former chain of rivers and lakes  \\\n",
       "0                                                      0         \n",
       "1                                                      0         \n",
       "2                                                      0         \n",
       "3                                                      0         \n",
       "4                                                      0         \n",
       "...                                                  ...         \n",
       "11933                                                  0         \n",
       "11944                                                  0         \n",
       "11945                                                  0         \n",
       "11948                                                  0         \n",
       "11951                                                  0         \n",
       "\n",
       "       reservoir_Reservoir in former lake  \\\n",
       "0                                       0   \n",
       "1                                       0   \n",
       "2                                       0   \n",
       "3                                       0   \n",
       "4                                       0   \n",
       "...                                   ...   \n",
       "11933                                   0   \n",
       "11944                                   0   \n",
       "11945                                   0   \n",
       "11948                                   0   \n",
       "11951                                   0   \n",
       "\n",
       "       reservoir_Reservoir in former river  reservoir_Unpopulated  \n",
       "0                                        0                      0  \n",
       "1                                        0                      0  \n",
       "2                                        0                      0  \n",
       "3                                        0                      0  \n",
       "4                                        0                      0  \n",
       "...                                    ...                    ...  \n",
       "11933                                    0                      0  \n",
       "11944                                    0                      0  \n",
       "11945                                    0                      0  \n",
       "11948                                    0                      0  \n",
       "11951                                    0                      0  \n",
       "\n",
       "[10699 rows x 12 columns]"
      ]
     },
     "execution_count": 100,
     "metadata": {},
     "output_type": "execute_result"
    }
   ],
   "source": [
    "derived_data"
   ]
  },
  {
   "attachments": {},
   "cell_type": "markdown",
   "metadata": {},
   "source": [
    "Merging Data"
   ]
  },
  {
   "cell_type": "code",
   "execution_count": 101,
   "metadata": {},
   "outputs": [],
   "source": [
    "# So Now We Merge both The EQR dataset and The Derived dataset together\n",
    "# Using Monitoringsite, countrycode and parameterwaterbodycategory for connecting them together\n",
    "\n",
    "merged = pd.merge(derived_data,data,on=[\"monitoringSiteIdentifier\",\"parameterWaterBodyCategory\",\"CountryCode\"])\n",
    "merged.shape"
   ]
  },
  {
   "cell_type": "code",
   "execution_count": 102,
   "metadata": {},
   "outputs": [],
   "source": [
    "# Drop rows that has duplicated id\n",
    "merged.drop_duplicates([\"UID\"],inplace=True)"
   ]
  },
  {
   "cell_type": "code",
   "execution_count": 103,
   "metadata": {},
   "outputs": [
    {
     "name": "stdout",
     "output_type": "stream",
     "text": [
      "<class 'pandas.core.frame.DataFrame'>\n",
      "Int64Index: 28805 entries, 0 to 28811\n",
      "Data columns (total 21 columns):\n",
      " #   Column                                                   Non-Null Count  Dtype  \n",
      "---  ------                                                   --------------  -----  \n",
      " 0   CountryCode                                              28805 non-null  object \n",
      " 1   monitoringSiteIdentifier                                 28805 non-null  object \n",
      " 2   parameterWaterBodyCategory                               28805 non-null  object \n",
      " 3   naturalAWBHMWB_AWB                                       28805 non-null  uint8  \n",
      " 4   naturalAWBHMWB_HMWB                                      28805 non-null  uint8  \n",
      " 5   naturalAWBHMWB_Natural                                   28805 non-null  uint8  \n",
      " 6   reservoir_Missing                                        28805 non-null  uint8  \n",
      " 7   reservoir_Not a reservoir                                28805 non-null  uint8  \n",
      " 8   reservoir_Reservoir in former chain of rivers and lakes  28805 non-null  uint8  \n",
      " 9   reservoir_Reservoir in former lake                       28805 non-null  uint8  \n",
      " 10  reservoir_Reservoir in former river                      28805 non-null  uint8  \n",
      " 11  reservoir_Unpopulated                                    28805 non-null  uint8  \n",
      " 12  parameterICStatusOfDeterminandBiologyEQR                 28805 non-null  float64\n",
      " 13  parameterBoundaryValueClasses12                          28805 non-null  float64\n",
      " 14  parameterBoundaryValueClasses23                          28805 non-null  float64\n",
      " 15  parameterBoundaryValueClasses34                          28805 non-null  float64\n",
      " 16  parameterBoundaryValueClasses45                          28805 non-null  float64\n",
      " 17  parameterNCSWaterBodyType                                28805 non-null  float64\n",
      " 18  resultEcologicalStatusClassValue                         28805 non-null  int64  \n",
      " 19  result_convert_EQR                                       28805 non-null  int64  \n",
      " 20  UID                                                      28805 non-null  int64  \n",
      "dtypes: float64(6), int64(3), object(3), uint8(9)\n",
      "memory usage: 3.1+ MB\n"
     ]
    }
   ],
   "source": [
    "merged.info()"
   ]
  },
  {
   "cell_type": "code",
   "execution_count": 104,
   "metadata": {},
   "outputs": [],
   "source": [
    "merged.to_csv(\"merged.csv\",index=False)"
   ]
  }
 ],
 "metadata": {
  "kernelspec": {
   "display_name": "Python 3",
   "language": "python",
   "name": "python3"
  },
  "language_info": {
   "codemirror_mode": {
    "name": "ipython",
    "version": 3
   },
   "file_extension": ".py",
   "mimetype": "text/x-python",
   "name": "python",
   "nbconvert_exporter": "python",
   "pygments_lexer": "ipython3",
   "version": "3.9.5"
  },
  "orig_nbformat": 4
 },
 "nbformat": 4,
 "nbformat_minor": 2
}
