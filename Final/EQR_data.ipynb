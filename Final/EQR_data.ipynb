{
 "cells": [
  {
   "cell_type": "code",
   "execution_count": 1,
   "metadata": {},
   "outputs": [],
   "source": [
    "# Import Libraries\n",
    "\n",
    "import pandas as pd\n",
    "import numpy as np\n",
    "import matplotlib.pyplot as plt\n",
    "import seaborn as sns"
   ]
  },
  {
   "cell_type": "code",
   "execution_count": 2,
   "metadata": {},
   "outputs": [],
   "source": [
    "data   = pd.read_csv(\"Waterbase_v2018_1_WISE4_csv/Waterbase_v2018_1_T_WISE4_BiologyEQRData.csv\") # Read Main CSV File\n",
    "cri_RW = pd.read_csv(\"EQR_RW_Criteria.csv\") # Read RW Criteria File\n",
    "cri_LW = pd.read_csv(\"EQR_LW_Criteria.csv\") # Read LW Criteria File"
   ]
  },
  {
   "cell_type": "code",
   "execution_count": 3,
   "metadata": {},
   "outputs": [
    {
     "name": "stdout",
     "output_type": "stream",
     "text": [
      "<class 'pandas.core.frame.DataFrame'>\n",
      "RangeIndex: 29741 entries, 0 to 29740\n",
      "Data columns (total 19 columns):\n",
      " #   Column                                     Non-Null Count  Dtype  \n",
      "---  ------                                     --------------  -----  \n",
      " 0   monitoringSiteIdentifier                   29741 non-null  object \n",
      " 1   monitoringSiteIdentifierScheme             29741 non-null  object \n",
      " 2   parameterWaterBodyCategory                 29741 non-null  object \n",
      " 3   parameterNCSWaterBodyType                  29680 non-null  object \n",
      " 4   observedPropertyDeterminandBiologyEQRCode  29741 non-null  object \n",
      " 5   phenomenonTimeReferenceYear                29741 non-null  int64  \n",
      " 6   parameterSamplingPeriod                    27503 non-null  object \n",
      " 7   resultEcologicalStatusClassValue           29741 non-null  int64  \n",
      " 8   resultNumberOfSamples                      29741 non-null  int64  \n",
      " 9   resultEQRValue                             27425 non-null  float64\n",
      " 10  resultNormalisedEQRValue                   19714 non-null  float64\n",
      " 11  resultObservationStatus                    7945 non-null   object \n",
      " 12  Remarks                                    7064 non-null   object \n",
      " 13  metadata_versionId                         29741 non-null  object \n",
      " 14  metadata_beginLifeSpanVersion              29741 non-null  object \n",
      " 15  metadata_statusCode                        29741 non-null  object \n",
      " 16  metadata_observationStatus                 29741 non-null  object \n",
      " 17  metadata_statements                        3319 non-null   object \n",
      " 18  UID                                        29741 non-null  int64  \n",
      "dtypes: float64(2), int64(4), object(13)\n",
      "memory usage: 4.3+ MB\n"
     ]
    }
   ],
   "source": [
    "# Observe Info of the DataFrame\n",
    "\n",
    "data.info()"
   ]
  },
  {
   "cell_type": "code",
   "execution_count": 4,
   "metadata": {},
   "outputs": [
    {
     "data": {
      "text/html": [
       "<div>\n",
       "<style scoped>\n",
       "    .dataframe tbody tr th:only-of-type {\n",
       "        vertical-align: middle;\n",
       "    }\n",
       "\n",
       "    .dataframe tbody tr th {\n",
       "        vertical-align: top;\n",
       "    }\n",
       "\n",
       "    .dataframe thead th {\n",
       "        text-align: right;\n",
       "    }\n",
       "</style>\n",
       "<table border=\"1\" class=\"dataframe\">\n",
       "  <thead>\n",
       "    <tr style=\"text-align: right;\">\n",
       "      <th></th>\n",
       "      <th>monitoringSiteIdentifier</th>\n",
       "      <th>monitoringSiteIdentifierScheme</th>\n",
       "      <th>parameterWaterBodyCategory</th>\n",
       "      <th>parameterNCSWaterBodyType</th>\n",
       "      <th>observedPropertyDeterminandBiologyEQRCode</th>\n",
       "      <th>phenomenonTimeReferenceYear</th>\n",
       "      <th>parameterSamplingPeriod</th>\n",
       "      <th>resultEcologicalStatusClassValue</th>\n",
       "      <th>resultNumberOfSamples</th>\n",
       "      <th>resultEQRValue</th>\n",
       "      <th>resultNormalisedEQRValue</th>\n",
       "      <th>resultObservationStatus</th>\n",
       "      <th>Remarks</th>\n",
       "      <th>metadata_versionId</th>\n",
       "      <th>metadata_beginLifeSpanVersion</th>\n",
       "      <th>metadata_statusCode</th>\n",
       "      <th>metadata_observationStatus</th>\n",
       "      <th>metadata_statements</th>\n",
       "      <th>UID</th>\n",
       "    </tr>\n",
       "  </thead>\n",
       "  <tbody>\n",
       "    <tr>\n",
       "      <th>2835</th>\n",
       "      <td>UK51895</td>\n",
       "      <td>eionetMonitoringSiteCode</td>\n",
       "      <td>RW</td>\n",
       "      <td>General</td>\n",
       "      <td>EEA_13-01-4</td>\n",
       "      <td>2009</td>\n",
       "      <td>2009-01--2009-12</td>\n",
       "      <td>3</td>\n",
       "      <td>2</td>\n",
       "      <td>0.770000</td>\n",
       "      <td>0.436364</td>\n",
       "      <td>NaN</td>\n",
       "      <td>ASPT</td>\n",
       "      <td>http://discomap.eea.europa.eu/data/wisesoe/der...</td>\n",
       "      <td>2015-11-30 00:00:00.000</td>\n",
       "      <td>experimental</td>\n",
       "      <td>A</td>\n",
       "      <td>NaN</td>\n",
       "      <td>24357</td>\n",
       "    </tr>\n",
       "    <tr>\n",
       "      <th>7741</th>\n",
       "      <td>IT0801120200</td>\n",
       "      <td>euMonitoringSiteCode</td>\n",
       "      <td>RW</td>\n",
       "      <td>Mb</td>\n",
       "      <td>EEA_124-04-9</td>\n",
       "      <td>2012</td>\n",
       "      <td>2012-01--2012-12</td>\n",
       "      <td>3</td>\n",
       "      <td>2</td>\n",
       "      <td>0.670000</td>\n",
       "      <td>0.426667</td>\n",
       "      <td>NaN</td>\n",
       "      <td>NaN</td>\n",
       "      <td>http://discomap.eea.europa.eu/data/wisesoe/der...</td>\n",
       "      <td>2015-11-30 00:00:00.000</td>\n",
       "      <td>experimental</td>\n",
       "      <td>A</td>\n",
       "      <td>NaN</td>\n",
       "      <td>23418</td>\n",
       "    </tr>\n",
       "    <tr>\n",
       "      <th>9334</th>\n",
       "      <td>FRDR06128620</td>\n",
       "      <td>euMonitoringSiteCode</td>\n",
       "      <td>RW</td>\n",
       "      <td>GM6/8</td>\n",
       "      <td>EEA_124-01-6</td>\n",
       "      <td>2010</td>\n",
       "      <td>2010-06--2010-08</td>\n",
       "      <td>2</td>\n",
       "      <td>1</td>\n",
       "      <td>0.835714</td>\n",
       "      <td>0.670000</td>\n",
       "      <td>NaN</td>\n",
       "      <td>NaN</td>\n",
       "      <td>http://discomap.eea.europa.eu/data/wisesoe/der...</td>\n",
       "      <td>2015-11-30 00:00:00.000</td>\n",
       "      <td>experimental</td>\n",
       "      <td>A</td>\n",
       "      <td>NaN</td>\n",
       "      <td>4052</td>\n",
       "    </tr>\n",
       "    <tr>\n",
       "      <th>25940</th>\n",
       "      <td>HR29120</td>\n",
       "      <td>euMonitoringSiteCode</td>\n",
       "      <td>RW</td>\n",
       "      <td>HR-R_5B</td>\n",
       "      <td>EEA_13-04-7</td>\n",
       "      <td>2015</td>\n",
       "      <td>2015-01-01--2015-12-31</td>\n",
       "      <td>2</td>\n",
       "      <td>1</td>\n",
       "      <td>0.700000</td>\n",
       "      <td>0.700000</td>\n",
       "      <td>NaN</td>\n",
       "      <td>NaN</td>\n",
       "      <td>http://cdr.eionet.europa.eu/hr/eea/wise_soe/wi...</td>\n",
       "      <td>2019-01-25 09:25:43.000</td>\n",
       "      <td>valid</td>\n",
       "      <td>A</td>\n",
       "      <td>NaN</td>\n",
       "      <td>46787</td>\n",
       "    </tr>\n",
       "    <tr>\n",
       "      <th>4829</th>\n",
       "      <td>IT01022040</td>\n",
       "      <td>euMonitoringSiteCode</td>\n",
       "      <td>RW</td>\n",
       "      <td>R-C</td>\n",
       "      <td>EEA_124-01-6</td>\n",
       "      <td>2012</td>\n",
       "      <td>2012-01--2012-12</td>\n",
       "      <td>1</td>\n",
       "      <td>2</td>\n",
       "      <td>1.170000</td>\n",
       "      <td>1.000000</td>\n",
       "      <td>NaN</td>\n",
       "      <td>NaN</td>\n",
       "      <td>http://discomap.eea.europa.eu/data/wisesoe/der...</td>\n",
       "      <td>2015-11-30 00:00:00.000</td>\n",
       "      <td>experimental</td>\n",
       "      <td>A</td>\n",
       "      <td>NaN</td>\n",
       "      <td>3053</td>\n",
       "    </tr>\n",
       "  </tbody>\n",
       "</table>\n",
       "</div>"
      ],
      "text/plain": [
       "      monitoringSiteIdentifier monitoringSiteIdentifierScheme  \\\n",
       "2835                   UK51895       eionetMonitoringSiteCode   \n",
       "7741              IT0801120200           euMonitoringSiteCode   \n",
       "9334              FRDR06128620           euMonitoringSiteCode   \n",
       "25940                  HR29120           euMonitoringSiteCode   \n",
       "4829                IT01022040           euMonitoringSiteCode   \n",
       "\n",
       "      parameterWaterBodyCategory parameterNCSWaterBodyType  \\\n",
       "2835                          RW                   General   \n",
       "7741                          RW                        Mb   \n",
       "9334                          RW                     GM6/8   \n",
       "25940                         RW                   HR-R_5B   \n",
       "4829                          RW                       R-C   \n",
       "\n",
       "      observedPropertyDeterminandBiologyEQRCode  phenomenonTimeReferenceYear  \\\n",
       "2835                                EEA_13-01-4                         2009   \n",
       "7741                               EEA_124-04-9                         2012   \n",
       "9334                               EEA_124-01-6                         2010   \n",
       "25940                               EEA_13-04-7                         2015   \n",
       "4829                               EEA_124-01-6                         2012   \n",
       "\n",
       "      parameterSamplingPeriod  resultEcologicalStatusClassValue  \\\n",
       "2835         2009-01--2009-12                                 3   \n",
       "7741         2012-01--2012-12                                 3   \n",
       "9334         2010-06--2010-08                                 2   \n",
       "25940  2015-01-01--2015-12-31                                 2   \n",
       "4829         2012-01--2012-12                                 1   \n",
       "\n",
       "       resultNumberOfSamples  resultEQRValue  resultNormalisedEQRValue  \\\n",
       "2835                       2        0.770000                  0.436364   \n",
       "7741                       2        0.670000                  0.426667   \n",
       "9334                       1        0.835714                  0.670000   \n",
       "25940                      1        0.700000                  0.700000   \n",
       "4829                       2        1.170000                  1.000000   \n",
       "\n",
       "      resultObservationStatus Remarks  \\\n",
       "2835                      NaN    ASPT   \n",
       "7741                      NaN     NaN   \n",
       "9334                      NaN     NaN   \n",
       "25940                     NaN     NaN   \n",
       "4829                      NaN     NaN   \n",
       "\n",
       "                                      metadata_versionId  \\\n",
       "2835   http://discomap.eea.europa.eu/data/wisesoe/der...   \n",
       "7741   http://discomap.eea.europa.eu/data/wisesoe/der...   \n",
       "9334   http://discomap.eea.europa.eu/data/wisesoe/der...   \n",
       "25940  http://cdr.eionet.europa.eu/hr/eea/wise_soe/wi...   \n",
       "4829   http://discomap.eea.europa.eu/data/wisesoe/der...   \n",
       "\n",
       "      metadata_beginLifeSpanVersion metadata_statusCode  \\\n",
       "2835        2015-11-30 00:00:00.000        experimental   \n",
       "7741        2015-11-30 00:00:00.000        experimental   \n",
       "9334        2015-11-30 00:00:00.000        experimental   \n",
       "25940       2019-01-25 09:25:43.000               valid   \n",
       "4829        2015-11-30 00:00:00.000        experimental   \n",
       "\n",
       "      metadata_observationStatus metadata_statements    UID  \n",
       "2835                           A                 NaN  24357  \n",
       "7741                           A                 NaN  23418  \n",
       "9334                           A                 NaN   4052  \n",
       "25940                          A                 NaN  46787  \n",
       "4829                           A                 NaN   3053  "
      ]
     },
     "execution_count": 4,
     "metadata": {},
     "output_type": "execute_result"
    }
   ],
   "source": [
    "# Sample\n",
    "data.sample(5)"
   ]
  },
  {
   "cell_type": "code",
   "execution_count": 5,
   "metadata": {},
   "outputs": [
    {
     "data": {
      "text/plain": [
       "A    7816\n",
       "O     129\n",
       "Name: resultObservationStatus, dtype: int64"
      ]
     },
     "execution_count": 5,
     "metadata": {},
     "output_type": "execute_result"
    }
   ],
   "source": [
    "# Check Result observation Status\n",
    "data[\"resultObservationStatus\"].value_counts()"
   ]
  },
  {
   "cell_type": "code",
   "execution_count": 6,
   "metadata": {},
   "outputs": [
    {
     "data": {
      "text/plain": [
       "21796"
      ]
     },
     "execution_count": 6,
     "metadata": {},
     "output_type": "execute_result"
    }
   ],
   "source": [
    "# Null Value in result ObservationStatus\n",
    "data[\"resultObservationStatus\"].isnull().sum()"
   ]
  },
  {
   "cell_type": "code",
   "execution_count": 7,
   "metadata": {},
   "outputs": [],
   "source": [
    "# Remove the column that has missing observed value (The column that contained O)\n",
    "data = data[data[\"resultObservationStatus\"] != \"O\"]"
   ]
  },
  {
   "cell_type": "code",
   "execution_count": 8,
   "metadata": {},
   "outputs": [
    {
     "data": {
      "text/plain": [
       "A    26337\n",
       "U     3275\n",
       "Name: metadata_observationStatus, dtype: int64"
      ]
     },
     "execution_count": 8,
     "metadata": {},
     "output_type": "execute_result"
    }
   ],
   "source": [
    "# Check metadata observation Status\n",
    "data[\"metadata_observationStatus\"].value_counts()\n",
    "# For the metadata_observation we can keep both because unvalidated data is labeled as V"
   ]
  },
  {
   "cell_type": "code",
   "execution_count": 9,
   "metadata": {},
   "outputs": [],
   "source": [
    "# From The data definition file there are some ineteresting column that we could look into\n",
    "\n",
    "# 1. monitoringSiteIdentifier                 (Unique international identifier of the monitoring site)\n",
    "# 2. parameterWaterBodyCategory               (Water body category code)\n",
    "# 3. parameterNCSWaterBodyType                (Type of water body as defined by the member state)\n",
    "# 4. phenomenonTimeReferenceYear              (The reference Year of that data)\n",
    "# 5. resultEcologicalStatusClassValue         (Categorical EQR Data)\n",
    "# 6. resultEQRValue                           (Mean value of the biological metric converted to the national Ecological Quality Ratio (EQR) scale)\n",
    "# 7. resultNormalisedEQRValue                 (Mean value of metric converted to normalised EQR scale (Ecological Quality Ratio))"
   ]
  },
  {
   "attachments": {},
   "cell_type": "markdown",
   "metadata": {},
   "source": [
    "MonitoringSiteIndentifer"
   ]
  },
  {
   "cell_type": "code",
   "execution_count": 10,
   "metadata": {},
   "outputs": [
    {
     "data": {
      "text/plain": [
       "12142       ATFW73200617\n",
       "18894     PL02S0502_2247\n",
       "2724     UKEWMIBIOS50020\n",
       "3236        FRGR04096360\n",
       "25744          ES0911255\n",
       "Name: monitoringSiteIdentifier, dtype: object"
      ]
     },
     "execution_count": 10,
     "metadata": {},
     "output_type": "execute_result"
    }
   ],
   "source": [
    "# 1st Focusing on MonitoringSiteIndentifer Column\n",
    "data[\"monitoringSiteIdentifier\"].sample(5)"
   ]
  },
  {
   "cell_type": "code",
   "execution_count": 11,
   "metadata": {},
   "outputs": [],
   "source": [
    "# Notice that the monitoringSiteIndetifer Column all begin with a CountryCode, Therefore we can extract the country code from each row. In order to have an easier time merging the dataset with the criteria"
   ]
  },
  {
   "cell_type": "code",
   "execution_count": 12,
   "metadata": {},
   "outputs": [],
   "source": [
    "# Extracting Country code from this dataset\n",
    "data[\"CountryCode\"] = data[\"monitoringSiteIdentifier\"].apply(lambda x: x[:2])"
   ]
  },
  {
   "cell_type": "code",
   "execution_count": 13,
   "metadata": {},
   "outputs": [
    {
     "data": {
      "text/plain": [
       "array(['NL', 'NO', 'ES', 'PL', 'PT', 'EE', 'RO', 'SE', 'BG', 'LU', 'SI',\n",
       "       'SK', 'UK', 'BE', 'FR', 'FI', 'CY', 'IE', 'IT', 'LT', 'LV', 'DK',\n",
       "       'HR', 'AT', 'CH', 'DE'], dtype=object)"
      ]
     },
     "execution_count": 13,
     "metadata": {},
     "output_type": "execute_result"
    }
   ],
   "source": [
    "# Check Each Unique Country\n",
    "data[\"CountryCode\"].unique()"
   ]
  },
  {
   "cell_type": "code",
   "execution_count": 14,
   "metadata": {},
   "outputs": [],
   "source": [
    "# From the output it seems like there is more country in dataset compared to the criteria. Therefore, we will check the number of unique country in each dataset based on parameterWaterBodyCategory"
   ]
  },
  {
   "attachments": {},
   "cell_type": "markdown",
   "metadata": {},
   "source": [
    "parameterWaterBodyCategory"
   ]
  },
  {
   "cell_type": "code",
   "execution_count": 15,
   "metadata": {},
   "outputs": [
    {
     "data": {
      "text/plain": [
       "array(['RW', 'LW', 'TW', 'CW'], dtype=object)"
      ]
     },
     "execution_count": 15,
     "metadata": {},
     "output_type": "execute_result"
    }
   ],
   "source": [
    "# Exploring parameterWaterBodyCategory Column\n",
    "data[\"parameterWaterBodyCategory\"].unique()"
   ]
  },
  {
   "cell_type": "code",
   "execution_count": 16,
   "metadata": {},
   "outputs": [
    {
     "data": {
      "text/plain": [
       "RW    24738\n",
       "LW     4852\n",
       "TW       15\n",
       "CW        7\n",
       "Name: parameterWaterBodyCategory, dtype: int64"
      ]
     },
     "execution_count": 16,
     "metadata": {},
     "output_type": "execute_result"
    }
   ],
   "source": [
    "data[\"parameterWaterBodyCategory\"].value_counts()"
   ]
  },
  {
   "cell_type": "code",
   "execution_count": 17,
   "metadata": {},
   "outputs": [],
   "source": [
    "# The dataset contain 4 types of water\n",
    "# 1. RW (River Water Body)\n",
    "# 2. LW (Lake Water Body)\n",
    "# 3. TW (Transitional Water Body)\n",
    "# 4. CW (Coastal Water Body)"
   ]
  },
  {
   "cell_type": "code",
   "execution_count": 18,
   "metadata": {},
   "outputs": [],
   "source": [
    "# We don't have the EQR citeria for both TW and CW types of water. So, we are planning to drop those row in the dataset.\n",
    "# The data is only about 23 rows in 30k. Therefore, it likely to have to effect to our dataset.\n",
    "# In addition, TW and CW are sea water which we don't drink it.\n",
    "data = data[(data[\"parameterWaterBodyCategory\"] == \"RW\") | (data[\"parameterWaterBodyCategory\"] == \"LW\")]"
   ]
  },
  {
   "cell_type": "code",
   "execution_count": 19,
   "metadata": {},
   "outputs": [
    {
     "name": "stdout",
     "output_type": "stream",
     "text": [
      "Number of Unique Country in EQR (RW) Dataset : 26\n",
      "Number of Unique Country in EQR (LW) Dataset : 20\n",
      "Number of Unique Country in RW Criteria      : 24\n",
      "Number of Unique Country in LW Criteria      : 16\n"
     ]
    }
   ],
   "source": [
    "# Check For Each Unique Country in Criteria Dataset\n",
    "len_uni_EQR_RW = len(data[data[\"parameterWaterBodyCategory\"] == \"RW\"][\"CountryCode\"].unique())\n",
    "len_uni_EQR_LW = len(data[data[\"parameterWaterBodyCategory\"] == \"LW\"][\"CountryCode\"].unique())\n",
    "len_uni_RW     = len(cri_RW[\"CountryCode\"].unique())\n",
    "len_uni_LW     = len(cri_LW[\"CountryCode\"].unique())\n",
    "\n",
    "# Current File\n",
    "print(f\"Number of Unique Country in EQR (RW) Dataset : {len_uni_EQR_RW}\")\n",
    "print(f\"Number of Unique Country in EQR (LW) Dataset : {len_uni_EQR_LW}\")\n",
    "\n",
    "# Another File\n",
    "print(f\"Number of Unique Country in RW Criteria      : {len_uni_RW}\")\n",
    "print(f\"Number of Unique Country in LW Criteria      : {len_uni_LW}\")"
   ]
  },
  {
   "cell_type": "code",
   "execution_count": 20,
   "metadata": {},
   "outputs": [
    {
     "name": "stdout",
     "output_type": "stream",
     "text": [
      "Countries that are not in the EQR (RW) Dataset : ['UK', 'DK', 'CH']\n",
      "Countries that are not in the EQR (LW) Dataset : ['NO', 'UK', 'IT', 'DE', 'FR']\n"
     ]
    }
   ],
   "source": [
    "# From, the cell above now we are going to print the value that does not contained in the CountryCode\n",
    "RW_does_not_contain = []\n",
    "LW_does_not_contain = []\n",
    "\n",
    "for RW in data[data[\"parameterWaterBodyCategory\"] == \"RW\"][\"CountryCode\"].unique():\n",
    "    if RW not in cri_RW[\"CountryCode\"].unique():\n",
    "        RW_does_not_contain.append(RW)\n",
    "\n",
    "for LW in data[data[\"parameterWaterBodyCategory\"] == \"LW\"][\"CountryCode\"].unique():\n",
    "    if LW not in cri_LW[\"CountryCode\"].unique():\n",
    "        LW_does_not_contain.append(LW)\n",
    "\n",
    "print(f\"Countries that are not in the EQR (RW) Dataset : {RW_does_not_contain}\")\n",
    "print(f\"Countries that are not in the EQR (LW) Dataset : {LW_does_not_contain}\")"
   ]
  },
  {
   "cell_type": "code",
   "execution_count": 21,
   "metadata": {},
   "outputs": [
    {
     "data": {
      "text/html": [
       "<div>\n",
       "<style scoped>\n",
       "    .dataframe tbody tr th:only-of-type {\n",
       "        vertical-align: middle;\n",
       "    }\n",
       "\n",
       "    .dataframe tbody tr th {\n",
       "        vertical-align: top;\n",
       "    }\n",
       "\n",
       "    .dataframe thead th {\n",
       "        text-align: right;\n",
       "    }\n",
       "</style>\n",
       "<table border=\"1\" class=\"dataframe\">\n",
       "  <thead>\n",
       "    <tr style=\"text-align: right;\">\n",
       "      <th></th>\n",
       "      <th>monitoringSiteIdentifier</th>\n",
       "      <th>monitoringSiteIdentifierScheme</th>\n",
       "      <th>parameterWaterBodyCategory</th>\n",
       "      <th>parameterNCSWaterBodyType</th>\n",
       "      <th>observedPropertyDeterminandBiologyEQRCode</th>\n",
       "      <th>phenomenonTimeReferenceYear</th>\n",
       "      <th>parameterSamplingPeriod</th>\n",
       "      <th>resultEcologicalStatusClassValue</th>\n",
       "      <th>resultNumberOfSamples</th>\n",
       "      <th>resultEQRValue</th>\n",
       "      <th>resultNormalisedEQRValue</th>\n",
       "      <th>resultObservationStatus</th>\n",
       "      <th>Remarks</th>\n",
       "      <th>metadata_versionId</th>\n",
       "      <th>metadata_beginLifeSpanVersion</th>\n",
       "      <th>metadata_statusCode</th>\n",
       "      <th>metadata_observationStatus</th>\n",
       "      <th>metadata_statements</th>\n",
       "      <th>UID</th>\n",
       "      <th>CountryCode</th>\n",
       "    </tr>\n",
       "  </thead>\n",
       "  <tbody>\n",
       "    <tr>\n",
       "      <th>8781</th>\n",
       "      <td>UKSC206807</td>\n",
       "      <td>euMonitoringSiteCode</td>\n",
       "      <td>RW</td>\n",
       "      <td>Mid-altitude Organic Medium</td>\n",
       "      <td>EEA_13-01-4</td>\n",
       "      <td>2015</td>\n",
       "      <td>2015-01-01--2015-12-21</td>\n",
       "      <td>2</td>\n",
       "      <td>1</td>\n",
       "      <td>0.600000</td>\n",
       "      <td>0.60000</td>\n",
       "      <td>A</td>\n",
       "      <td>NaN</td>\n",
       "      <td>http://cdr.eionet.europa.eu/gb/eea/wise_soe/wi...</td>\n",
       "      <td>2017-01-26 13:54:02.000</td>\n",
       "      <td>stable</td>\n",
       "      <td>A</td>\n",
       "      <td>NaN</td>\n",
       "      <td>39995</td>\n",
       "      <td>UK</td>\n",
       "    </tr>\n",
       "    <tr>\n",
       "      <th>1953</th>\n",
       "      <td>UKEWSWBIOS9656</td>\n",
       "      <td>euMonitoringSiteCode</td>\n",
       "      <td>RW</td>\n",
       "      <td>General</td>\n",
       "      <td>EEA_13-01-4</td>\n",
       "      <td>2010</td>\n",
       "      <td>2010-01--2010-12</td>\n",
       "      <td>1</td>\n",
       "      <td>2</td>\n",
       "      <td>0.979000</td>\n",
       "      <td>NaN</td>\n",
       "      <td>NaN</td>\n",
       "      <td>NaN</td>\n",
       "      <td>http://discomap.eea.europa.eu/data/wisesoe/der...</td>\n",
       "      <td>2015-11-30 00:00:00.000</td>\n",
       "      <td>experimental</td>\n",
       "      <td>U</td>\n",
       "      <td>QC_LEGACY_EQR_MISS: Not available resultNormal...</td>\n",
       "      <td>10120</td>\n",
       "      <td>UK</td>\n",
       "    </tr>\n",
       "    <tr>\n",
       "      <th>10176</th>\n",
       "      <td>UKGBNIF10636</td>\n",
       "      <td>euMonitoringSiteCode</td>\n",
       "      <td>RW</td>\n",
       "      <td>F10636</td>\n",
       "      <td>EEA_13-01-4</td>\n",
       "      <td>2011</td>\n",
       "      <td>2011-01--2011-12</td>\n",
       "      <td>2</td>\n",
       "      <td>2</td>\n",
       "      <td>0.817534</td>\n",
       "      <td>0.75362</td>\n",
       "      <td>NaN</td>\n",
       "      <td>Invertebrate EQR is a single year assessment f...</td>\n",
       "      <td>http://discomap.eea.europa.eu/data/wisesoe/der...</td>\n",
       "      <td>2015-11-30 00:00:00.000</td>\n",
       "      <td>experimental</td>\n",
       "      <td>A</td>\n",
       "      <td>NaN</td>\n",
       "      <td>12099</td>\n",
       "      <td>UK</td>\n",
       "    </tr>\n",
       "    <tr>\n",
       "      <th>3364</th>\n",
       "      <td>UKEWTHBIOS36072</td>\n",
       "      <td>euMonitoringSiteCode</td>\n",
       "      <td>RW</td>\n",
       "      <td>General</td>\n",
       "      <td>EEA_124-04-9</td>\n",
       "      <td>2009</td>\n",
       "      <td>2009-01--2009-12</td>\n",
       "      <td>3</td>\n",
       "      <td>2</td>\n",
       "      <td>0.596319</td>\n",
       "      <td>NaN</td>\n",
       "      <td>NaN</td>\n",
       "      <td>NaN</td>\n",
       "      <td>http://discomap.eea.europa.eu/data/wisesoe/der...</td>\n",
       "      <td>2015-11-30 00:00:00.000</td>\n",
       "      <td>experimental</td>\n",
       "      <td>U</td>\n",
       "      <td>QC_LEGACY_182: resultNormalisedEQRValue cannot...</td>\n",
       "      <td>10475</td>\n",
       "      <td>UK</td>\n",
       "    </tr>\n",
       "    <tr>\n",
       "      <th>14359</th>\n",
       "      <td>UKSC122716</td>\n",
       "      <td>euMonitoringSiteCode</td>\n",
       "      <td>RW</td>\n",
       "      <td>Lowland Calcareous Small</td>\n",
       "      <td>EEA_13-01-4</td>\n",
       "      <td>2013</td>\n",
       "      <td>2013-01-01--2013-12-21</td>\n",
       "      <td>2</td>\n",
       "      <td>1</td>\n",
       "      <td>0.600000</td>\n",
       "      <td>0.60000</td>\n",
       "      <td>A</td>\n",
       "      <td>NaN</td>\n",
       "      <td>http://cdr.eionet.europa.eu/gb/eea/wise_soe/wi...</td>\n",
       "      <td>2016-04-28 16:16:02.000</td>\n",
       "      <td>stable</td>\n",
       "      <td>A</td>\n",
       "      <td>NaN</td>\n",
       "      <td>29443</td>\n",
       "      <td>UK</td>\n",
       "    </tr>\n",
       "  </tbody>\n",
       "</table>\n",
       "</div>"
      ],
      "text/plain": [
       "      monitoringSiteIdentifier monitoringSiteIdentifierScheme  \\\n",
       "8781                UKSC206807           euMonitoringSiteCode   \n",
       "1953            UKEWSWBIOS9656           euMonitoringSiteCode   \n",
       "10176             UKGBNIF10636           euMonitoringSiteCode   \n",
       "3364           UKEWTHBIOS36072           euMonitoringSiteCode   \n",
       "14359               UKSC122716           euMonitoringSiteCode   \n",
       "\n",
       "      parameterWaterBodyCategory    parameterNCSWaterBodyType  \\\n",
       "8781                          RW  Mid-altitude Organic Medium   \n",
       "1953                          RW                      General   \n",
       "10176                         RW                       F10636   \n",
       "3364                          RW                      General   \n",
       "14359                         RW     Lowland Calcareous Small   \n",
       "\n",
       "      observedPropertyDeterminandBiologyEQRCode  phenomenonTimeReferenceYear  \\\n",
       "8781                                EEA_13-01-4                         2015   \n",
       "1953                                EEA_13-01-4                         2010   \n",
       "10176                               EEA_13-01-4                         2011   \n",
       "3364                               EEA_124-04-9                         2009   \n",
       "14359                               EEA_13-01-4                         2013   \n",
       "\n",
       "      parameterSamplingPeriod  resultEcologicalStatusClassValue  \\\n",
       "8781   2015-01-01--2015-12-21                                 2   \n",
       "1953         2010-01--2010-12                                 1   \n",
       "10176        2011-01--2011-12                                 2   \n",
       "3364         2009-01--2009-12                                 3   \n",
       "14359  2013-01-01--2013-12-21                                 2   \n",
       "\n",
       "       resultNumberOfSamples  resultEQRValue  resultNormalisedEQRValue  \\\n",
       "8781                       1        0.600000                   0.60000   \n",
       "1953                       2        0.979000                       NaN   \n",
       "10176                      2        0.817534                   0.75362   \n",
       "3364                       2        0.596319                       NaN   \n",
       "14359                      1        0.600000                   0.60000   \n",
       "\n",
       "      resultObservationStatus  \\\n",
       "8781                        A   \n",
       "1953                      NaN   \n",
       "10176                     NaN   \n",
       "3364                      NaN   \n",
       "14359                       A   \n",
       "\n",
       "                                                 Remarks  \\\n",
       "8781                                                 NaN   \n",
       "1953                                                 NaN   \n",
       "10176  Invertebrate EQR is a single year assessment f...   \n",
       "3364                                                 NaN   \n",
       "14359                                                NaN   \n",
       "\n",
       "                                      metadata_versionId  \\\n",
       "8781   http://cdr.eionet.europa.eu/gb/eea/wise_soe/wi...   \n",
       "1953   http://discomap.eea.europa.eu/data/wisesoe/der...   \n",
       "10176  http://discomap.eea.europa.eu/data/wisesoe/der...   \n",
       "3364   http://discomap.eea.europa.eu/data/wisesoe/der...   \n",
       "14359  http://cdr.eionet.europa.eu/gb/eea/wise_soe/wi...   \n",
       "\n",
       "      metadata_beginLifeSpanVersion metadata_statusCode  \\\n",
       "8781        2017-01-26 13:54:02.000              stable   \n",
       "1953        2015-11-30 00:00:00.000        experimental   \n",
       "10176       2015-11-30 00:00:00.000        experimental   \n",
       "3364        2015-11-30 00:00:00.000        experimental   \n",
       "14359       2016-04-28 16:16:02.000              stable   \n",
       "\n",
       "      metadata_observationStatus  \\\n",
       "8781                           A   \n",
       "1953                           U   \n",
       "10176                          A   \n",
       "3364                           U   \n",
       "14359                          A   \n",
       "\n",
       "                                     metadata_statements    UID CountryCode  \n",
       "8781                                                 NaN  39995          UK  \n",
       "1953   QC_LEGACY_EQR_MISS: Not available resultNormal...  10120          UK  \n",
       "10176                                                NaN  12099          UK  \n",
       "3364   QC_LEGACY_182: resultNormalisedEQRValue cannot...  10475          UK  \n",
       "14359                                                NaN  29443          UK  "
      ]
     },
     "execution_count": 21,
     "metadata": {},
     "output_type": "execute_result"
    }
   ],
   "source": [
    "# Check the contry that are not in EQR Dataset\n",
    "\n",
    "# Start with RW\n",
    "data[(data[\"CountryCode\"] == RW_does_not_contain[0]) | (data[\"CountryCode\"] == RW_does_not_contain[1]) | (data[\"CountryCode\"] == RW_does_not_contain[2])].sample(5)"
   ]
  },
  {
   "cell_type": "code",
   "execution_count": 22,
   "metadata": {},
   "outputs": [
    {
     "data": {
      "text/plain": [
       "CountryCode\n",
       "UK    6641\n",
       "CH     217\n",
       "DK     144\n",
       "dtype: int64"
      ]
     },
     "execution_count": 22,
     "metadata": {},
     "output_type": "execute_result"
    }
   ],
   "source": [
    "# Majority it is a EQR value from UK that does not have a criteria\n",
    "data[(data[\"parameterWaterBodyCategory\"] == \"RW\") & ((data[\"CountryCode\"] == RW_does_not_contain[0]) | (data[\"CountryCode\"] == RW_does_not_contain[1]) | (data[\"CountryCode\"] == RW_does_not_contain[2]))].value_counts(\"CountryCode\")"
   ]
  },
  {
   "cell_type": "code",
   "execution_count": 23,
   "metadata": {},
   "outputs": [],
   "source": [
    "# Categorize data into 2 datasets data_RW and data_LW\n",
    "data_RW = data[data[\"parameterWaterBodyCategory\"] == \"RW\"]\n",
    "data_LW = data[data[\"parameterWaterBodyCategory\"] == \"LW\"]"
   ]
  },
  {
   "cell_type": "code",
   "execution_count": 24,
   "metadata": {},
   "outputs": [
    {
     "data": {
      "text/html": [
       "<div>\n",
       "<style scoped>\n",
       "    .dataframe tbody tr th:only-of-type {\n",
       "        vertical-align: middle;\n",
       "    }\n",
       "\n",
       "    .dataframe tbody tr th {\n",
       "        vertical-align: top;\n",
       "    }\n",
       "\n",
       "    .dataframe thead th {\n",
       "        text-align: right;\n",
       "    }\n",
       "</style>\n",
       "<table border=\"1\" class=\"dataframe\">\n",
       "  <thead>\n",
       "    <tr style=\"text-align: right;\">\n",
       "      <th></th>\n",
       "      <th>monitoringSiteIdentifier</th>\n",
       "      <th>monitoringSiteIdentifierScheme</th>\n",
       "      <th>parameterWaterBodyCategory</th>\n",
       "      <th>parameterNCSWaterBodyType</th>\n",
       "      <th>observedPropertyDeterminandBiologyEQRCode</th>\n",
       "      <th>phenomenonTimeReferenceYear</th>\n",
       "      <th>parameterSamplingPeriod</th>\n",
       "      <th>resultEcologicalStatusClassValue</th>\n",
       "      <th>resultNumberOfSamples</th>\n",
       "      <th>resultEQRValue</th>\n",
       "      <th>resultNormalisedEQRValue</th>\n",
       "      <th>resultObservationStatus</th>\n",
       "      <th>Remarks</th>\n",
       "      <th>metadata_versionId</th>\n",
       "      <th>metadata_beginLifeSpanVersion</th>\n",
       "      <th>metadata_statusCode</th>\n",
       "      <th>metadata_observationStatus</th>\n",
       "      <th>metadata_statements</th>\n",
       "      <th>UID</th>\n",
       "      <th>CountryCode</th>\n",
       "    </tr>\n",
       "  </thead>\n",
       "  <tbody>\n",
       "    <tr>\n",
       "      <th>12853</th>\n",
       "      <td>UKGBNIF10693</td>\n",
       "      <td>euMonitoringSiteCode</td>\n",
       "      <td>RW</td>\n",
       "      <td>Lowland Siliceous Small</td>\n",
       "      <td>EEA_13-01-4</td>\n",
       "      <td>2015</td>\n",
       "      <td>2015-01-01--2015-12-31</td>\n",
       "      <td>1</td>\n",
       "      <td>2</td>\n",
       "      <td>1.053000</td>\n",
       "      <td>NaN</td>\n",
       "      <td>A</td>\n",
       "      <td>NaN</td>\n",
       "      <td>http://cdr.eionet.europa.eu/gb/eea/wise_soe/wi...</td>\n",
       "      <td>2017-01-12 12:25:30.000</td>\n",
       "      <td>stable</td>\n",
       "      <td>A</td>\n",
       "      <td>NaN</td>\n",
       "      <td>39728</td>\n",
       "      <td>UK</td>\n",
       "    </tr>\n",
       "    <tr>\n",
       "      <th>9507</th>\n",
       "      <td>UKSC123151</td>\n",
       "      <td>euMonitoringSiteCode</td>\n",
       "      <td>RW</td>\n",
       "      <td>general</td>\n",
       "      <td>EEA_13-01-4</td>\n",
       "      <td>2010</td>\n",
       "      <td>2010-01--2010-12</td>\n",
       "      <td>1</td>\n",
       "      <td>1</td>\n",
       "      <td>1.080000</td>\n",
       "      <td>1.000000</td>\n",
       "      <td>NaN</td>\n",
       "      <td>ASPT</td>\n",
       "      <td>http://discomap.eea.europa.eu/data/wisesoe/der...</td>\n",
       "      <td>2015-11-30 00:00:00.000</td>\n",
       "      <td>experimental</td>\n",
       "      <td>A</td>\n",
       "      <td>NaN</td>\n",
       "      <td>26938</td>\n",
       "      <td>UK</td>\n",
       "    </tr>\n",
       "    <tr>\n",
       "      <th>9776</th>\n",
       "      <td>UKEWMIBIOS52480</td>\n",
       "      <td>euMonitoringSiteCode</td>\n",
       "      <td>RW</td>\n",
       "      <td>General</td>\n",
       "      <td>EEA_13-01-4</td>\n",
       "      <td>2010</td>\n",
       "      <td>2010-01--2010-12</td>\n",
       "      <td>3</td>\n",
       "      <td>2</td>\n",
       "      <td>0.798000</td>\n",
       "      <td>NaN</td>\n",
       "      <td>NaN</td>\n",
       "      <td>NaN</td>\n",
       "      <td>http://discomap.eea.europa.eu/data/wisesoe/der...</td>\n",
       "      <td>2015-11-30 00:00:00.000</td>\n",
       "      <td>experimental</td>\n",
       "      <td>U</td>\n",
       "      <td>QC_LEGACY_182: resultNormalisedEQRValue cannot...</td>\n",
       "      <td>9364</td>\n",
       "      <td>UK</td>\n",
       "    </tr>\n",
       "    <tr>\n",
       "      <th>11268</th>\n",
       "      <td>UKEWSWBIOS80816</td>\n",
       "      <td>euMonitoringSiteCode</td>\n",
       "      <td>RW</td>\n",
       "      <td>General</td>\n",
       "      <td>EEA_124-04-9</td>\n",
       "      <td>2011</td>\n",
       "      <td>2011-01--2011-12</td>\n",
       "      <td>3</td>\n",
       "      <td>2</td>\n",
       "      <td>0.584077</td>\n",
       "      <td>NaN</td>\n",
       "      <td>NaN</td>\n",
       "      <td>NaN</td>\n",
       "      <td>http://discomap.eea.europa.eu/data/wisesoe/der...</td>\n",
       "      <td>2015-11-30 00:00:00.000</td>\n",
       "      <td>experimental</td>\n",
       "      <td>U</td>\n",
       "      <td>QC_LEGACY_182: resultNormalisedEQRValue cannot...</td>\n",
       "      <td>27114</td>\n",
       "      <td>UK</td>\n",
       "    </tr>\n",
       "    <tr>\n",
       "      <th>8714</th>\n",
       "      <td>UKSC008295</td>\n",
       "      <td>euMonitoringSiteCode</td>\n",
       "      <td>RW</td>\n",
       "      <td>general</td>\n",
       "      <td>EEA_124-04-9</td>\n",
       "      <td>2010</td>\n",
       "      <td>2010-01--2010-12</td>\n",
       "      <td>1</td>\n",
       "      <td>1</td>\n",
       "      <td>0.985000</td>\n",
       "      <td>0.957143</td>\n",
       "      <td>NaN</td>\n",
       "      <td>NaN</td>\n",
       "      <td>http://discomap.eea.europa.eu/data/wisesoe/der...</td>\n",
       "      <td>2015-11-30 00:00:00.000</td>\n",
       "      <td>experimental</td>\n",
       "      <td>A</td>\n",
       "      <td>NaN</td>\n",
       "      <td>24628</td>\n",
       "      <td>UK</td>\n",
       "    </tr>\n",
       "  </tbody>\n",
       "</table>\n",
       "</div>"
      ],
      "text/plain": [
       "      monitoringSiteIdentifier monitoringSiteIdentifierScheme  \\\n",
       "12853             UKGBNIF10693           euMonitoringSiteCode   \n",
       "9507                UKSC123151           euMonitoringSiteCode   \n",
       "9776           UKEWMIBIOS52480           euMonitoringSiteCode   \n",
       "11268          UKEWSWBIOS80816           euMonitoringSiteCode   \n",
       "8714                UKSC008295           euMonitoringSiteCode   \n",
       "\n",
       "      parameterWaterBodyCategory parameterNCSWaterBodyType  \\\n",
       "12853                         RW   Lowland Siliceous Small   \n",
       "9507                          RW                   general   \n",
       "9776                          RW                   General   \n",
       "11268                         RW                   General   \n",
       "8714                          RW                   general   \n",
       "\n",
       "      observedPropertyDeterminandBiologyEQRCode  phenomenonTimeReferenceYear  \\\n",
       "12853                               EEA_13-01-4                         2015   \n",
       "9507                                EEA_13-01-4                         2010   \n",
       "9776                                EEA_13-01-4                         2010   \n",
       "11268                              EEA_124-04-9                         2011   \n",
       "8714                               EEA_124-04-9                         2010   \n",
       "\n",
       "      parameterSamplingPeriod  resultEcologicalStatusClassValue  \\\n",
       "12853  2015-01-01--2015-12-31                                 1   \n",
       "9507         2010-01--2010-12                                 1   \n",
       "9776         2010-01--2010-12                                 3   \n",
       "11268        2011-01--2011-12                                 3   \n",
       "8714         2010-01--2010-12                                 1   \n",
       "\n",
       "       resultNumberOfSamples  resultEQRValue  resultNormalisedEQRValue  \\\n",
       "12853                      2        1.053000                       NaN   \n",
       "9507                       1        1.080000                  1.000000   \n",
       "9776                       2        0.798000                       NaN   \n",
       "11268                      2        0.584077                       NaN   \n",
       "8714                       1        0.985000                  0.957143   \n",
       "\n",
       "      resultObservationStatus Remarks  \\\n",
       "12853                       A     NaN   \n",
       "9507                      NaN    ASPT   \n",
       "9776                      NaN     NaN   \n",
       "11268                     NaN     NaN   \n",
       "8714                      NaN     NaN   \n",
       "\n",
       "                                      metadata_versionId  \\\n",
       "12853  http://cdr.eionet.europa.eu/gb/eea/wise_soe/wi...   \n",
       "9507   http://discomap.eea.europa.eu/data/wisesoe/der...   \n",
       "9776   http://discomap.eea.europa.eu/data/wisesoe/der...   \n",
       "11268  http://discomap.eea.europa.eu/data/wisesoe/der...   \n",
       "8714   http://discomap.eea.europa.eu/data/wisesoe/der...   \n",
       "\n",
       "      metadata_beginLifeSpanVersion metadata_statusCode  \\\n",
       "12853       2017-01-12 12:25:30.000              stable   \n",
       "9507        2015-11-30 00:00:00.000        experimental   \n",
       "9776        2015-11-30 00:00:00.000        experimental   \n",
       "11268       2015-11-30 00:00:00.000        experimental   \n",
       "8714        2015-11-30 00:00:00.000        experimental   \n",
       "\n",
       "      metadata_observationStatus  \\\n",
       "12853                          A   \n",
       "9507                           A   \n",
       "9776                           U   \n",
       "11268                          U   \n",
       "8714                           A   \n",
       "\n",
       "                                     metadata_statements    UID CountryCode  \n",
       "12853                                                NaN  39728          UK  \n",
       "9507                                                 NaN  26938          UK  \n",
       "9776   QC_LEGACY_182: resultNormalisedEQRValue cannot...   9364          UK  \n",
       "11268  QC_LEGACY_182: resultNormalisedEQRValue cannot...  27114          UK  \n",
       "8714                                                 NaN  24628          UK  "
      ]
     },
     "execution_count": 24,
     "metadata": {},
     "output_type": "execute_result"
    }
   ],
   "source": [
    "# Focusing on RW\n",
    "data[(data[\"CountryCode\"] == RW_does_not_contain[0]) | (data[\"CountryCode\"] == RW_does_not_contain[1]) | (data[\"CountryCode\"] == RW_does_not_contain[2])].sample(5)"
   ]
  },
  {
   "cell_type": "code",
   "execution_count": 25,
   "metadata": {},
   "outputs": [],
   "source": [
    "# Check for the lower resultEQR that have resultEcologicalStatusClassValue equal to 1 in UK\n",
    "first_boundary_UK = data_RW[(data_RW[\"CountryCode\"] == \"UK\") & (data_RW[\"resultEcologicalStatusClassValue\"] == 1)][\"resultNormalisedEQRValue\"].min()\n",
    "\n",
    "# Check for the lower resultEQR that have resultEcologicalStatusClassValue equal to 2 in UK\n",
    "second_boundary_UK = data_RW[(data_RW[\"CountryCode\"] == \"UK\") & (data_RW[\"resultEcologicalStatusClassValue\"] == 2)][\"resultNormalisedEQRValue\"].min()\n",
    "\n",
    "# Check for the lower resultEQR that have resultEcologicalStatusClassValue equal to 3 in UK\n",
    "third_boundary_UK = data_RW[(data_RW[\"CountryCode\"] == \"UK\") & (data_RW[\"resultEcologicalStatusClassValue\"] == 3)][\"resultNormalisedEQRValue\"].min()\n",
    "\n",
    "# Check for the lower resultEQR that have resultEcologicalStatusClassValue equal to 4 in UK\n",
    "fourth_boundary_UK = data_RW[(data_RW[\"CountryCode\"] == \"UK\") & (data_RW[\"resultEcologicalStatusClassValue\"] == 4)][\"resultNormalisedEQRValue\"].min()"
   ]
  },
  {
   "cell_type": "code",
   "execution_count": 26,
   "metadata": {},
   "outputs": [],
   "source": [
    "cri_RW = cri_RW.append({'CountryCode'                             :'UK',\n",
    "                        'parameterICStatusOfDeterminandBiologyEQR':np.mean(cri_RW[\"parameterICStatusOfDeterminandBiologyEQR\"]), \n",
    "                        'parameterBoundaryValueClasses12'         :first_boundary_UK,\n",
    "                        'parameterBoundaryValueClasses23'         :second_boundary_UK,\n",
    "                        'parameterBoundaryValueClasses34'         :third_boundary_UK,\n",
    "                        'parameterBoundaryValueClasses45'         :fourth_boundary_UK}\n",
    "                        , ignore_index=True)"
   ]
  },
  {
   "cell_type": "code",
   "execution_count": 27,
   "metadata": {},
   "outputs": [
    {
     "name": "stdout",
     "output_type": "stream",
     "text": [
      "Number of Non null resultEQR in CH Country code\n",
      "0\n",
      "Number of Non null resultEQR in DK Country code\n",
      "0\n"
     ]
    },
    {
     "data": {
      "text/plain": [
       "(24377, 20)"
      ]
     },
     "execution_count": 27,
     "metadata": {},
     "output_type": "execute_result"
    }
   ],
   "source": [
    "# For the last 2 contries (CH and DK), it seem like there is no EQR value in the dataset. Therefore, we chose to drop all the data of these country from the dataset\n",
    "print(\"Number of Non null resultEQR in CH Country code\")\n",
    "print(data_RW[data_RW[\"CountryCode\"] == \"CH\"][\"resultNormalisedEQRValue\"].notnull().sum())\n",
    "data_RW = data_RW[(data_RW[\"CountryCode\"] != \"CH\")]\n",
    "\n",
    "print(\"Number of Non null resultEQR in DK Country code\")\n",
    "print(data_RW[data_RW[\"CountryCode\"] == \"DK\"][\"resultNormalisedEQRValue\"].notnull().sum())\n",
    "data_RW = data_RW[(data_RW[\"CountryCode\"] != \"DK\")]\n",
    "\n",
    "data_RW.shape"
   ]
  },
  {
   "cell_type": "code",
   "execution_count": 28,
   "metadata": {},
   "outputs": [
    {
     "data": {
      "text/plain": [
       "array(['RW', 'LW'], dtype=object)"
      ]
     },
     "execution_count": 28,
     "metadata": {},
     "output_type": "execute_result"
    }
   ],
   "source": [
    "data.parameterWaterBodyCategory.unique()"
   ]
  },
  {
   "cell_type": "code",
   "execution_count": 29,
   "metadata": {},
   "outputs": [
    {
     "data": {
      "text/plain": [
       "CountryCode\n",
       "UK    650\n",
       "DE    142\n",
       "IT     46\n",
       "NO     23\n",
       "FR      8\n",
       "dtype: int64"
      ]
     },
     "execution_count": 29,
     "metadata": {},
     "output_type": "execute_result"
    }
   ],
   "source": [
    "# Focusing on LW\n",
    "data[(data[\"parameterWaterBodyCategory\"] == \"LW\") & ((data[\"CountryCode\"] == LW_does_not_contain[0]) | (data[\"CountryCode\"] == LW_does_not_contain[1]) | (data[\"CountryCode\"] == LW_does_not_contain[2])| (data[\"CountryCode\"] == LW_does_not_contain[3]) | (data[\"CountryCode\"] == LW_does_not_contain[4]))].value_counts(\"CountryCode\")"
   ]
  },
  {
   "cell_type": "code",
   "execution_count": 30,
   "metadata": {},
   "outputs": [
    {
     "name": "stdout",
     "output_type": "stream",
     "text": [
      "Number of Non null resultEQR in UK Country code\n",
      "377\n",
      "Number of Non null resultEQR in DE Country code\n",
      "0\n",
      "Number of Non null resultEQR in IT Country code\n",
      "6\n",
      "Number of Non null resultEQR in NO Country code\n",
      "15\n",
      "Number of Non null resultEQR in FR Country code\n",
      "8\n"
     ]
    },
    {
     "data": {
      "text/plain": [
       "(29590, 20)"
      ]
     },
     "execution_count": 30,
     "metadata": {},
     "output_type": "execute_result"
    }
   ],
   "source": [
    "# For the Every country except UK we have only few non-null value, so we decided to drop them.\n",
    "print(\"Number of Non null resultEQR in UK Country code\")\n",
    "print(data_LW[data_LW[\"CountryCode\"] == \"UK\"][\"resultNormalisedEQRValue\"].notnull().sum())\n",
    "\n",
    "print(\"Number of Non null resultEQR in DE Country code\")\n",
    "print(data_LW[data_LW[\"CountryCode\"] == \"DE\"][\"resultNormalisedEQRValue\"].notnull().sum())\n",
    "data_LW = data_LW[(data_LW[\"CountryCode\"] != \"DE\")]\n",
    "\n",
    "print(\"Number of Non null resultEQR in IT Country code\")\n",
    "print(data_LW[data_LW[\"CountryCode\"] == \"IT\"][\"resultNormalisedEQRValue\"].notnull().sum())\n",
    "data_LW = data_LW[(data_LW[\"CountryCode\"] != \"IT\")]\n",
    "\n",
    "print(\"Number of Non null resultEQR in NO Country code\")\n",
    "print(data_LW[data_LW[\"CountryCode\"] == \"NO\"][\"resultNormalisedEQRValue\"].notnull().sum())\n",
    "data_LW = data_LW[(data_LW[\"CountryCode\"] != \"NO\")]\n",
    "\n",
    "print(\"Number of Non null resultEQR in FR Country code\")\n",
    "print(data_LW[data_LW[\"CountryCode\"] == \"FR\"][\"resultNormalisedEQRValue\"].notnull().sum())\n",
    "data_LW = data_LW[(data_LW[\"CountryCode\"] != \"FR\")]\n",
    "\n",
    "data.shape"
   ]
  },
  {
   "cell_type": "code",
   "execution_count": 31,
   "metadata": {},
   "outputs": [],
   "source": [
    "# Check for the lower resultEQR that have resultEcologicalStatusClassValue equal to 1 in UK\n",
    "first_boundary_UK  = data_LW[(data_LW[\"CountryCode\"] == \"UK\") & (data_LW[\"resultEcologicalStatusClassValue\"] == 1)][\"resultNormalisedEQRValue\"].min()\n",
    "\n",
    "# Check for the lower resultEQR that have resultEcologicalStatusClassValue equal to 2 in UK\n",
    "second_boundary_UK = data_LW[(data_LW[\"CountryCode\"] == \"UK\") & (data_LW[\"resultEcologicalStatusClassValue\"] == 2)][\"resultNormalisedEQRValue\"].min()\n",
    "\n",
    "# Check for the lower resultEQR that have resultEcologicalStatusClassValue equal to 3 in UK\n",
    "third_boundary_UK  = data_LW[(data_LW[\"CountryCode\"] == \"UK\") & (data_LW[\"resultEcologicalStatusClassValue\"] == 3)][\"resultNormalisedEQRValue\"].min()\n",
    "\n",
    "# Check for the lower resultEQR that have resultEcologicalStatusClassValue equal to 4 in UK\n",
    "fourth_boundary_UK = data_LW[(data_LW[\"CountryCode\"] == \"UK\") & (data_LW[\"resultEcologicalStatusClassValue\"] == 4)][\"resultNormalisedEQRValue\"].min()"
   ]
  },
  {
   "cell_type": "code",
   "execution_count": 32,
   "metadata": {},
   "outputs": [],
   "source": [
    "cri_LW = cri_LW.append({'CountryCode'                             :'UK',\n",
    "                        'parameterICStatusOfDeterminandBiologyEQR':np.mean(cri_RW[\"parameterICStatusOfDeterminandBiologyEQR\"]), \n",
    "                        'parameterBoundaryValueClasses12'         :first_boundary_UK,\n",
    "                        'parameterBoundaryValueClasses23'         :second_boundary_UK,\n",
    "                        'parameterBoundaryValueClasses34'         :third_boundary_UK,\n",
    "                        'parameterBoundaryValueClasses45'         :fourth_boundary_UK}\n",
    "                        , ignore_index=True)"
   ]
  },
  {
   "cell_type": "code",
   "execution_count": 33,
   "metadata": {},
   "outputs": [],
   "source": [
    "# Concat LW dataset and RW dataset\n",
    "data = pd.concat([data_RW, data_LW])"
   ]
  },
  {
   "cell_type": "code",
   "execution_count": 34,
   "metadata": {},
   "outputs": [
    {
     "name": "stdout",
     "output_type": "stream",
     "text": [
      "<class 'pandas.core.frame.DataFrame'>\n",
      "Int64Index: 29010 entries, 0 to 29709\n",
      "Data columns (total 20 columns):\n",
      " #   Column                                     Non-Null Count  Dtype  \n",
      "---  ------                                     --------------  -----  \n",
      " 0   monitoringSiteIdentifier                   29010 non-null  object \n",
      " 1   monitoringSiteIdentifierScheme             29010 non-null  object \n",
      " 2   parameterWaterBodyCategory                 29010 non-null  object \n",
      " 3   parameterNCSWaterBodyType                  29006 non-null  object \n",
      " 4   observedPropertyDeterminandBiologyEQRCode  29010 non-null  object \n",
      " 5   phenomenonTimeReferenceYear                29010 non-null  int64  \n",
      " 6   parameterSamplingPeriod                    27081 non-null  object \n",
      " 7   resultEcologicalStatusClassValue           29010 non-null  int64  \n",
      " 8   resultNumberOfSamples                      29010 non-null  int64  \n",
      " 9   resultEQRValue                             27195 non-null  float64\n",
      " 10  resultNormalisedEQRValue                   19667 non-null  float64\n",
      " 11  resultObservationStatus                    7816 non-null   object \n",
      " 12  Remarks                                    6688 non-null   object \n",
      " 13  metadata_versionId                         29010 non-null  object \n",
      " 14  metadata_beginLifeSpanVersion              29010 non-null  object \n",
      " 15  metadata_statusCode                        29010 non-null  object \n",
      " 16  metadata_observationStatus                 29010 non-null  object \n",
      " 17  metadata_statements                        3197 non-null   object \n",
      " 18  UID                                        29010 non-null  int64  \n",
      " 19  CountryCode                                29010 non-null  object \n",
      "dtypes: float64(2), int64(4), object(14)\n",
      "memory usage: 4.6+ MB\n"
     ]
    }
   ],
   "source": [
    "data.info()"
   ]
  },
  {
   "attachments": {},
   "cell_type": "markdown",
   "metadata": {},
   "source": [
    "parameterNCSWaterBodyType"
   ]
  },
  {
   "cell_type": "code",
   "execution_count": 35,
   "metadata": {},
   "outputs": [
    {
     "data": {
      "text/plain": [
       "General           4043\n",
       "1                  967\n",
       "17                 936\n",
       "general            775\n",
       "2                  600\n",
       "                  ... \n",
       "Rh                   1\n",
       "REL1313              1\n",
       " ROLNCAPMLA 02       1\n",
       "RO01aCAPM            1\n",
       "REL1223              1\n",
       "Name: parameterNCSWaterBodyType, Length: 986, dtype: int64"
      ]
     },
     "execution_count": 35,
     "metadata": {},
     "output_type": "execute_result"
    }
   ],
   "source": [
    "# Check Parameter in this column\n",
    "data[\"parameterNCSWaterBodyType\"].value_counts()"
   ]
  },
  {
   "cell_type": "code",
   "execution_count": 36,
   "metadata": {},
   "outputs": [],
   "source": [
    "# Fix the capital general value\n",
    "data[\"parameterNCSWaterBodyType\"].replace(\"General\",\"general\",inplace=True)"
   ]
  },
  {
   "cell_type": "code",
   "execution_count": 37,
   "metadata": {},
   "outputs": [
    {
     "name": "stdout",
     "output_type": "stream",
     "text": [
      "Total Missing Value : 4\n"
     ]
    }
   ],
   "source": [
    "# Fill the missing value with mode\n",
    "missing_val = data[\"parameterNCSWaterBodyType\"].isna().sum()\n",
    "print(f\"Total Missing Value : {missing_val}\")\n",
    "data[\"parameterNCSWaterBodyType\"].fillna(\"general\",inplace=True)"
   ]
  },
  {
   "cell_type": "code",
   "execution_count": 38,
   "metadata": {},
   "outputs": [],
   "source": [
    "# Using Ordinal Encoder to dummies the value\n",
    "from sklearn.preprocessing import OrdinalEncoder\n",
    "from itertools import chain\n",
    "\n",
    "encoder = OrdinalEncoder()\n",
    "data[[\"parameterNCSWaterBodyType\"]] = encoder.fit_transform(data[[\"parameterNCSWaterBodyType\"]])"
   ]
  },
  {
   "cell_type": "code",
   "execution_count": 39,
   "metadata": {},
   "outputs": [],
   "source": [
    "encoder_serial_number = encoder.categories_                              # Stored the Categories\n",
    "encoder_serial_number = list(chain.from_iterable(encoder_serial_number)) # Flatten\n",
    "encoder_data_set = pd.DataFrame( {\"Number\": range(len(encoder_serial_number)), \n",
    "                                  \"Data\": encoder_serial_number})"
   ]
  },
  {
   "cell_type": "code",
   "execution_count": 40,
   "metadata": {},
   "outputs": [
    {
     "data": {
      "text/html": [
       "<div>\n",
       "<style scoped>\n",
       "    .dataframe tbody tr th:only-of-type {\n",
       "        vertical-align: middle;\n",
       "    }\n",
       "\n",
       "    .dataframe tbody tr th {\n",
       "        vertical-align: top;\n",
       "    }\n",
       "\n",
       "    .dataframe thead th {\n",
       "        text-align: right;\n",
       "    }\n",
       "</style>\n",
       "<table border=\"1\" class=\"dataframe\">\n",
       "  <thead>\n",
       "    <tr style=\"text-align: right;\">\n",
       "      <th></th>\n",
       "      <th>Number</th>\n",
       "      <th>Data</th>\n",
       "    </tr>\n",
       "  </thead>\n",
       "  <tbody>\n",
       "    <tr>\n",
       "      <th>0</th>\n",
       "      <td>0</td>\n",
       "      <td>ROLNCAPMLA 02</td>\n",
       "    </tr>\n",
       "    <tr>\n",
       "      <th>1</th>\n",
       "      <td>1</td>\n",
       "      <td>0</td>\n",
       "    </tr>\n",
       "    <tr>\n",
       "      <th>2</th>\n",
       "      <td>2</td>\n",
       "      <td>01GH1N</td>\n",
       "    </tr>\n",
       "    <tr>\n",
       "      <th>3</th>\n",
       "      <td>3</td>\n",
       "      <td>01GH2N</td>\n",
       "    </tr>\n",
       "    <tr>\n",
       "      <th>4</th>\n",
       "      <td>4</td>\n",
       "      <td>01GH4N</td>\n",
       "    </tr>\n",
       "  </tbody>\n",
       "</table>\n",
       "</div>"
      ],
      "text/plain": [
       "   Number            Data\n",
       "0       0   ROLNCAPMLA 02\n",
       "1       1               0\n",
       "2       2          01GH1N\n",
       "3       3          01GH2N\n",
       "4       4          01GH4N"
      ]
     },
     "execution_count": 40,
     "metadata": {},
     "output_type": "execute_result"
    }
   ],
   "source": [
    "encoder_data_set.head()"
   ]
  },
  {
   "cell_type": "code",
   "execution_count": 41,
   "metadata": {},
   "outputs": [],
   "source": [
    "encoder_data_set.to_csv(\"ENCODER_paramterNCS.csv\",index=False)"
   ]
  },
  {
   "attachments": {},
   "cell_type": "markdown",
   "metadata": {},
   "source": [
    "phenomenonTimeReferenceYear"
   ]
  },
  {
   "cell_type": "code",
   "execution_count": 42,
   "metadata": {},
   "outputs": [
    {
     "data": {
      "text/plain": [
       "phenomenonTimeReferenceYear\n",
       "2010    5387\n",
       "2011    5187\n",
       "2014    4125\n",
       "2012    3415\n",
       "2013    3090\n",
       "2015    2983\n",
       "2016    1264\n",
       "2017    1020\n",
       "2009     930\n",
       "2008     705\n",
       "2007     432\n",
       "2006     178\n",
       "2005     144\n",
       "2004     137\n",
       "2003       4\n",
       "1994       1\n",
       "2002       1\n",
       "2001       1\n",
       "2000       1\n",
       "1999       1\n",
       "1998       1\n",
       "1996       1\n",
       "1995       1\n",
       "1992       1\n",
       "dtype: int64"
      ]
     },
     "execution_count": 42,
     "metadata": {},
     "output_type": "execute_result"
    }
   ],
   "source": [
    "# Explore the column\n",
    "data.value_counts(\"phenomenonTimeReferenceYear\")"
   ]
  },
  {
   "attachments": {},
   "cell_type": "markdown",
   "metadata": {},
   "source": [
    "resultEcologicalStatusClassValue"
   ]
  },
  {
   "cell_type": "code",
   "execution_count": 43,
   "metadata": {},
   "outputs": [],
   "source": [
    "# Config the 345 value in result Ecological Status to make it easier to understand\n",
    "\n",
    "data.replace(345,6,inplace=True)"
   ]
  },
  {
   "cell_type": "code",
   "execution_count": 44,
   "metadata": {},
   "outputs": [
    {
     "data": {
      "image/png": "[encoded data removed]",
      "text/plain": [
       "<Figure size 400x300 with 2 Axes>"
      ]
     },
     "metadata": {},
     "output_type": "display_data"
    }
   ],
   "source": [
    "# Plot the Time Reference Year vs EQR graph              \n",
    "sns.set(font_scale=2)                               # Set Font size \n",
    "plt.figure(figsize=(4,3))                           # Set Figure size\n",
    "sns.heatmap(data[[\"phenomenonTimeReferenceYear\",\"resultEcologicalStatusClassValue\"]].corr(),annot=True, cmap=\"Blues\") # Heatmap\n",
    "plt.show()"
   ]
  },
  {
   "cell_type": "code",
   "execution_count": 45,
   "metadata": {},
   "outputs": [],
   "source": [
    "# The Graph shows that as the year go on the EQR of water decrease"
   ]
  },
  {
   "cell_type": "code",
   "execution_count": 46,
   "metadata": {},
   "outputs": [],
   "source": [
    "# Convert EQR value from 5 categorical to 2 because we just want to know if the water is good or bad\n",
    "# Set the value as Good as 1 , Bad as 0\n",
    "data['result_convert_EQR'] = np.where(data['resultEcologicalStatusClassValue'] > 2, 0, 1)"
   ]
  },
  {
   "attachments": {},
   "cell_type": "markdown",
   "metadata": {},
   "source": [
    "Merging Data"
   ]
  },
  {
   "cell_type": "code",
   "execution_count": 47,
   "metadata": {},
   "outputs": [],
   "source": [
    "# Categorize data into 2 datasets data_RW and data_LW\n",
    "data_RW = data[data[\"parameterWaterBodyCategory\"] == \"RW\"]\n",
    "data_LW = data[data[\"parameterWaterBodyCategory\"] == \"LW\"]"
   ]
  },
  {
   "cell_type": "code",
   "execution_count": 48,
   "metadata": {},
   "outputs": [
    {
     "name": "stdout",
     "output_type": "stream",
     "text": [
      "RW shape : (24377, 26)\n",
      "LW shape : (4633, 26)\n"
     ]
    }
   ],
   "source": [
    "# Merging Data\n",
    "inner_merged_RW = pd.merge(cri_RW,data_RW,on=\"CountryCode\") # Merge cri_RW with data_RW\n",
    "print(f\"RW shape : {inner_merged_RW.shape}\")                # Check the shape of new Data\n",
    "inner_merged_LW = pd.merge(cri_LW,data_LW,on=\"CountryCode\") # Merge cri_LW with data_LW\n",
    "print(f\"LW shape : {inner_merged_LW.shape}\")                # Check the shape of new Data"
   ]
  },
  {
   "cell_type": "code",
   "execution_count": 49,
   "metadata": {},
   "outputs": [
    {
     "name": "stdout",
     "output_type": "stream",
     "text": [
      "New Data Shape : (29010, 26)\n"
     ]
    }
   ],
   "source": [
    "# Concat both data and check the shape\n",
    "concatenated = pd.concat([inner_merged_RW, inner_merged_LW])\n",
    "print(f\"New Data Shape : {concatenated.shape}\")     "
   ]
  },
  {
   "cell_type": "code",
   "execution_count": 50,
   "metadata": {},
   "outputs": [
    {
     "name": "stdout",
     "output_type": "stream",
     "text": [
      "<class 'pandas.core.frame.DataFrame'>\n",
      "Int64Index: 29010 entries, 0 to 4632\n",
      "Data columns (total 26 columns):\n",
      " #   Column                                     Non-Null Count  Dtype  \n",
      "---  ------                                     --------------  -----  \n",
      " 0   CountryCode                                29010 non-null  object \n",
      " 1   parameterICStatusOfDeterminandBiologyEQR   29010 non-null  float64\n",
      " 2   parameterBoundaryValueClasses12            29010 non-null  float64\n",
      " 3   parameterBoundaryValueClasses23            29010 non-null  float64\n",
      " 4   parameterBoundaryValueClasses34            29010 non-null  float64\n",
      " 5   parameterBoundaryValueClasses45            29010 non-null  float64\n",
      " 6   monitoringSiteIdentifier                   29010 non-null  object \n",
      " 7   monitoringSiteIdentifierScheme             29010 non-null  object \n",
      " 8   parameterWaterBodyCategory                 29010 non-null  object \n",
      " 9   parameterNCSWaterBodyType                  29010 non-null  float64\n",
      " 10  observedPropertyDeterminandBiologyEQRCode  29010 non-null  object \n",
      " 11  phenomenonTimeReferenceYear                29010 non-null  int64  \n",
      " 12  parameterSamplingPeriod                    27081 non-null  object \n",
      " 13  resultEcologicalStatusClassValue           29010 non-null  int64  \n",
      " 14  resultNumberOfSamples                      29010 non-null  int64  \n",
      " 15  resultEQRValue                             27195 non-null  float64\n",
      " 16  resultNormalisedEQRValue                   19667 non-null  float64\n",
      " 17  resultObservationStatus                    7816 non-null   object \n",
      " 18  Remarks                                    6688 non-null   object \n",
      " 19  metadata_versionId                         29010 non-null  object \n",
      " 20  metadata_beginLifeSpanVersion              29010 non-null  object \n",
      " 21  metadata_statusCode                        29010 non-null  object \n",
      " 22  metadata_observationStatus                 29010 non-null  object \n",
      " 23  metadata_statements                        3197 non-null   object \n",
      " 24  UID                                        29010 non-null  int64  \n",
      " 25  result_convert_EQR                         29010 non-null  int32  \n",
      "dtypes: float64(8), int32(1), int64(4), object(13)\n",
      "memory usage: 5.9+ MB\n"
     ]
    }
   ],
   "source": [
    "concatenated.info()"
   ]
  },
  {
   "cell_type": "code",
   "execution_count": 51,
   "metadata": {},
   "outputs": [],
   "source": [
    "# For the ResultEQR we will need more data from aggregated data to fill the missing values\n",
    "\n",
    "# Select the Feature that we want to export\n",
    "cols = [\"CountryCode\",\n",
    "         \"parameterICStatusOfDeterminandBiologyEQR\",\n",
    "         \"parameterBoundaryValueClasses12\",\n",
    "         \"parameterBoundaryValueClasses23\",\n",
    "         \"parameterBoundaryValueClasses34\",\n",
    "         \"parameterBoundaryValueClasses45\",\n",
    "         \"monitoringSiteIdentifier\",\n",
    "         \"parameterWaterBodyCategory\",\n",
    "         \"parameterNCSWaterBodyType\",\n",
    "         \"resultEcologicalStatusClassValue\",\n",
    "         \"result_convert_EQR\",\n",
    "         \"UID\"\n",
    "        ]\n",
    "\n",
    "# Select the column\n",
    "concatenated = concatenated[cols]"
   ]
  },
  {
   "cell_type": "code",
   "execution_count": 52,
   "metadata": {},
   "outputs": [
    {
     "data": {
      "text/html": [
       "<div>\n",
       "<style scoped>\n",
       "    .dataframe tbody tr th:only-of-type {\n",
       "        vertical-align: middle;\n",
       "    }\n",
       "\n",
       "    .dataframe tbody tr th {\n",
       "        vertical-align: top;\n",
       "    }\n",
       "\n",
       "    .dataframe thead th {\n",
       "        text-align: right;\n",
       "    }\n",
       "</style>\n",
       "<table border=\"1\" class=\"dataframe\">\n",
       "  <thead>\n",
       "    <tr style=\"text-align: right;\">\n",
       "      <th></th>\n",
       "      <th>CountryCode</th>\n",
       "      <th>parameterICStatusOfDeterminandBiologyEQR</th>\n",
       "      <th>parameterBoundaryValueClasses12</th>\n",
       "      <th>parameterBoundaryValueClasses23</th>\n",
       "      <th>parameterBoundaryValueClasses34</th>\n",
       "      <th>parameterBoundaryValueClasses45</th>\n",
       "      <th>monitoringSiteIdentifier</th>\n",
       "      <th>parameterWaterBodyCategory</th>\n",
       "      <th>parameterNCSWaterBodyType</th>\n",
       "      <th>resultEcologicalStatusClassValue</th>\n",
       "      <th>result_convert_EQR</th>\n",
       "      <th>UID</th>\n",
       "    </tr>\n",
       "  </thead>\n",
       "  <tbody>\n",
       "    <tr>\n",
       "      <th>0</th>\n",
       "      <td>AT</td>\n",
       "      <td>0.000000</td>\n",
       "      <td>0.817097</td>\n",
       "      <td>0.600968</td>\n",
       "      <td>0.418710</td>\n",
       "      <td>0.237742</td>\n",
       "      <td>ATFW10000177</td>\n",
       "      <td>RW</td>\n",
       "      <td>280.0</td>\n",
       "      <td>2</td>\n",
       "      <td>1</td>\n",
       "      <td>23000</td>\n",
       "    </tr>\n",
       "    <tr>\n",
       "      <th>1</th>\n",
       "      <td>AT</td>\n",
       "      <td>0.000000</td>\n",
       "      <td>0.817097</td>\n",
       "      <td>0.600968</td>\n",
       "      <td>0.418710</td>\n",
       "      <td>0.237742</td>\n",
       "      <td>ATFW21500306</td>\n",
       "      <td>RW</td>\n",
       "      <td>120.0</td>\n",
       "      <td>2</td>\n",
       "      <td>1</td>\n",
       "      <td>23001</td>\n",
       "    </tr>\n",
       "    <tr>\n",
       "      <th>2</th>\n",
       "      <td>AT</td>\n",
       "      <td>0.000000</td>\n",
       "      <td>0.817097</td>\n",
       "      <td>0.600968</td>\n",
       "      <td>0.418710</td>\n",
       "      <td>0.237742</td>\n",
       "      <td>ATFW21531167</td>\n",
       "      <td>RW</td>\n",
       "      <td>916.0</td>\n",
       "      <td>3</td>\n",
       "      <td>0</td>\n",
       "      <td>23002</td>\n",
       "    </tr>\n",
       "    <tr>\n",
       "      <th>3</th>\n",
       "      <td>AT</td>\n",
       "      <td>0.000000</td>\n",
       "      <td>0.817097</td>\n",
       "      <td>0.600968</td>\n",
       "      <td>0.418710</td>\n",
       "      <td>0.237742</td>\n",
       "      <td>ATFW21551267</td>\n",
       "      <td>RW</td>\n",
       "      <td>389.0</td>\n",
       "      <td>2</td>\n",
       "      <td>1</td>\n",
       "      <td>23003</td>\n",
       "    </tr>\n",
       "    <tr>\n",
       "      <th>4</th>\n",
       "      <td>AT</td>\n",
       "      <td>0.000000</td>\n",
       "      <td>0.817097</td>\n",
       "      <td>0.600968</td>\n",
       "      <td>0.418710</td>\n",
       "      <td>0.237742</td>\n",
       "      <td>ATFW21560297</td>\n",
       "      <td>RW</td>\n",
       "      <td>389.0</td>\n",
       "      <td>1</td>\n",
       "      <td>1</td>\n",
       "      <td>23004</td>\n",
       "    </tr>\n",
       "    <tr>\n",
       "      <th>...</th>\n",
       "      <td>...</td>\n",
       "      <td>...</td>\n",
       "      <td>...</td>\n",
       "      <td>...</td>\n",
       "      <td>...</td>\n",
       "      <td>...</td>\n",
       "      <td>...</td>\n",
       "      <td>...</td>\n",
       "      <td>...</td>\n",
       "      <td>...</td>\n",
       "      <td>...</td>\n",
       "      <td>...</td>\n",
       "    </tr>\n",
       "    <tr>\n",
       "      <th>4628</th>\n",
       "      <td>UK</td>\n",
       "      <td>0.557596</td>\n",
       "      <td>0.800000</td>\n",
       "      <td>0.600000</td>\n",
       "      <td>0.244444</td>\n",
       "      <td>0.223339</td>\n",
       "      <td>UKSC202906</td>\n",
       "      <td>LW</td>\n",
       "      <td>444.0</td>\n",
       "      <td>2</td>\n",
       "      <td>1</td>\n",
       "      <td>44982</td>\n",
       "    </tr>\n",
       "    <tr>\n",
       "      <th>4629</th>\n",
       "      <td>UK</td>\n",
       "      <td>0.557596</td>\n",
       "      <td>0.800000</td>\n",
       "      <td>0.600000</td>\n",
       "      <td>0.244444</td>\n",
       "      <td>0.223339</td>\n",
       "      <td>UKSC203476</td>\n",
       "      <td>LW</td>\n",
       "      <td>445.0</td>\n",
       "      <td>1</td>\n",
       "      <td>1</td>\n",
       "      <td>44983</td>\n",
       "    </tr>\n",
       "    <tr>\n",
       "      <th>4630</th>\n",
       "      <td>UK</td>\n",
       "      <td>0.557596</td>\n",
       "      <td>0.800000</td>\n",
       "      <td>0.600000</td>\n",
       "      <td>0.244444</td>\n",
       "      <td>0.223339</td>\n",
       "      <td>UKSC203476</td>\n",
       "      <td>LW</td>\n",
       "      <td>445.0</td>\n",
       "      <td>2</td>\n",
       "      <td>1</td>\n",
       "      <td>44984</td>\n",
       "    </tr>\n",
       "    <tr>\n",
       "      <th>4631</th>\n",
       "      <td>UK</td>\n",
       "      <td>0.557596</td>\n",
       "      <td>0.800000</td>\n",
       "      <td>0.600000</td>\n",
       "      <td>0.244444</td>\n",
       "      <td>0.223339</td>\n",
       "      <td>UKSC203978</td>\n",
       "      <td>LW</td>\n",
       "      <td>449.0</td>\n",
       "      <td>1</td>\n",
       "      <td>1</td>\n",
       "      <td>44985</td>\n",
       "    </tr>\n",
       "    <tr>\n",
       "      <th>4632</th>\n",
       "      <td>UK</td>\n",
       "      <td>0.557596</td>\n",
       "      <td>0.800000</td>\n",
       "      <td>0.600000</td>\n",
       "      <td>0.244444</td>\n",
       "      <td>0.223339</td>\n",
       "      <td>UKSC203978</td>\n",
       "      <td>LW</td>\n",
       "      <td>449.0</td>\n",
       "      <td>1</td>\n",
       "      <td>1</td>\n",
       "      <td>44986</td>\n",
       "    </tr>\n",
       "  </tbody>\n",
       "</table>\n",
       "<p>29010 rows × 12 columns</p>\n",
       "</div>"
      ],
      "text/plain": [
       "     CountryCode  parameterICStatusOfDeterminandBiologyEQR  \\\n",
       "0             AT                                  0.000000   \n",
       "1             AT                                  0.000000   \n",
       "2             AT                                  0.000000   \n",
       "3             AT                                  0.000000   \n",
       "4             AT                                  0.000000   \n",
       "...          ...                                       ...   \n",
       "4628          UK                                  0.557596   \n",
       "4629          UK                                  0.557596   \n",
       "4630          UK                                  0.557596   \n",
       "4631          UK                                  0.557596   \n",
       "4632          UK                                  0.557596   \n",
       "\n",
       "      parameterBoundaryValueClasses12  parameterBoundaryValueClasses23  \\\n",
       "0                            0.817097                         0.600968   \n",
       "1                            0.817097                         0.600968   \n",
       "2                            0.817097                         0.600968   \n",
       "3                            0.817097                         0.600968   \n",
       "4                            0.817097                         0.600968   \n",
       "...                               ...                              ...   \n",
       "4628                         0.800000                         0.600000   \n",
       "4629                         0.800000                         0.600000   \n",
       "4630                         0.800000                         0.600000   \n",
       "4631                         0.800000                         0.600000   \n",
       "4632                         0.800000                         0.600000   \n",
       "\n",
       "      parameterBoundaryValueClasses34  parameterBoundaryValueClasses45  \\\n",
       "0                            0.418710                         0.237742   \n",
       "1                            0.418710                         0.237742   \n",
       "2                            0.418710                         0.237742   \n",
       "3                            0.418710                         0.237742   \n",
       "4                            0.418710                         0.237742   \n",
       "...                               ...                              ...   \n",
       "4628                         0.244444                         0.223339   \n",
       "4629                         0.244444                         0.223339   \n",
       "4630                         0.244444                         0.223339   \n",
       "4631                         0.244444                         0.223339   \n",
       "4632                         0.244444                         0.223339   \n",
       "\n",
       "     monitoringSiteIdentifier parameterWaterBodyCategory  \\\n",
       "0                ATFW10000177                         RW   \n",
       "1                ATFW21500306                         RW   \n",
       "2                ATFW21531167                         RW   \n",
       "3                ATFW21551267                         RW   \n",
       "4                ATFW21560297                         RW   \n",
       "...                       ...                        ...   \n",
       "4628               UKSC202906                         LW   \n",
       "4629               UKSC203476                         LW   \n",
       "4630               UKSC203476                         LW   \n",
       "4631               UKSC203978                         LW   \n",
       "4632               UKSC203978                         LW   \n",
       "\n",
       "      parameterNCSWaterBodyType  resultEcologicalStatusClassValue  \\\n",
       "0                         280.0                                 2   \n",
       "1                         120.0                                 2   \n",
       "2                         916.0                                 3   \n",
       "3                         389.0                                 2   \n",
       "4                         389.0                                 1   \n",
       "...                         ...                               ...   \n",
       "4628                      444.0                                 2   \n",
       "4629                      445.0                                 1   \n",
       "4630                      445.0                                 2   \n",
       "4631                      449.0                                 1   \n",
       "4632                      449.0                                 1   \n",
       "\n",
       "      result_convert_EQR    UID  \n",
       "0                      1  23000  \n",
       "1                      1  23001  \n",
       "2                      0  23002  \n",
       "3                      1  23003  \n",
       "4                      1  23004  \n",
       "...                  ...    ...  \n",
       "4628                   1  44982  \n",
       "4629                   1  44983  \n",
       "4630                   1  44984  \n",
       "4631                   1  44985  \n",
       "4632                   1  44986  \n",
       "\n",
       "[29010 rows x 12 columns]"
      ]
     },
     "execution_count": 52,
     "metadata": {},
     "output_type": "execute_result"
    }
   ],
   "source": [
    "concatenated"
   ]
  },
  {
   "cell_type": "code",
   "execution_count": 53,
   "metadata": {},
   "outputs": [],
   "source": [
    "concatenated.to_csv(\"Cleaned_EQR.csv\",index=False)"
   ]
  }
 ],
 "metadata": {
  "kernelspec": {
   "display_name": "Python 3",
   "language": "python",
   "name": "python3"
  },
  "language_info": {
   "codemirror_mode": {
    "name": "ipython",
    "version": 3
   },
   "file_extension": ".py",
   "mimetype": "text/x-python",
   "name": "python",
   "nbconvert_exporter": "python",
   "pygments_lexer": "ipython3",
   "version": "3.9.5"
  },
  "orig_nbformat": 4
 },
 "nbformat": 4,
 "nbformat_minor": 2
}
